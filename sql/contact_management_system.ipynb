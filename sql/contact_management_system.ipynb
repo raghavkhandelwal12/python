{
 "cells": [
  {
   "cell_type": "markdown",
   "metadata": {},
   "source": [
    "# Project 4 : Contact Management System\n",
    "## Objective:\n",
    "Develop a system to manage contacts,allowing user to add,view,update,and delete contact information\n",
    "\n",
    "# Setup and Requirements:\n",
    "- **Database** : SQLite\n",
    "- **Technology** : Python"
   ]
  },
  {
   "cell_type": "code",
   "execution_count": 1,
   "metadata": {},
   "outputs": [],
   "source": [
    "import sqlite3"
   ]
  },
  {
   "cell_type": "code",
   "execution_count": 2,
   "metadata": {},
   "outputs": [],
   "source": [
    "#connect to SQLite database\n",
    "conn=sqlite3.connect('contacts.db')\n",
    "cursor=conn.cursor()"
   ]
  },
  {
   "cell_type": "code",
   "execution_count": 3,
   "metadata": {},
   "outputs": [],
   "source": [
    "#create table for contacts\n",
    "cursor.execute('''\n",
    "               CREATE TABLE IF NOT EXISTS contacts(\n",
    "                   id INTEGER PRIMARY KEY AUTOINCREMENT,\n",
    "                   first_name TEXT NOT NULL,\n",
    "                   last_name TEXT NOT NULL,\n",
    "                   phone_number TEXT,\n",
    "                   email TEXT)\n",
    "                   '''\n",
    "               )\n",
    "conn.commit()"
   ]
  },
  {
   "cell_type": "code",
   "execution_count": 4,
   "metadata": {},
   "outputs": [],
   "source": [
    "# Add a contact\n",
    "def add_contact(first_name,last_name,phone_number,email):\n",
    "    cursor.execute('''\n",
    "                   INSERT INTO contacts(first_name,last_name,phone_number,email)\n",
    "                   VALUES(?,?,?,?)\n",
    "                   ''',(first_name,last_name,phone_number,email))\n",
    "    conn.commit()\n",
    "                   "
   ]
  },
  {
   "cell_type": "code",
   "execution_count": 5,
   "metadata": {},
   "outputs": [],
   "source": [
    "# Add contacts\n",
    "add_contact('John', 'Doe', '555-1234', 'john.doe@example.com')\n",
    "add_contact('Jane', 'Smith', '555-5678', 'jane.smith@example.com')\n",
    "add_contact('Emily', 'Johnson', '555-8765', 'emily.johnson@example.com')\n",
    "add_contact('Michael', 'Brown', '555-4321', 'michael.brown@example.com')\n",
    "add_contact('Sarah', 'Davis', '555-3456', 'sarah.davis@example.com')"
   ]
  },
  {
   "cell_type": "code",
   "execution_count": 6,
   "metadata": {},
   "outputs": [],
   "source": [
    "#view contacts\n",
    "def view_contacts():\n",
    "    cursor.execute('SELECT*FROM contacts')\n",
    "    rows=cursor.fetchall()\n",
    "    if rows:\n",
    "        for row in rows:\n",
    "            print(f\"ID: {row[0]}, First Name: {row[1]}, Last Name: {row[2]}, Phone: {row[3]}, Email: {row[4]}\")\n",
    "    else:\n",
    "        print('No contact found.')\n",
    "    "
   ]
  },
  {
   "cell_type": "code",
   "execution_count": 7,
   "metadata": {},
   "outputs": [
    {
     "name": "stdout",
     "output_type": "stream",
     "text": [
      "ID: 1, First Name: John, Last Name: Doe, Phone: 555-1234, Email: john.doe@example.com\n",
      "ID: 2, First Name: Jane, Last Name: Smith, Phone: 555-5678, Email: jane.smith@example.com\n",
      "ID: 3, First Name: Emily, Last Name: Johnson, Phone: 555-8765, Email: emily.johnson@example.com\n",
      "ID: 4, First Name: Michael, Last Name: Brown, Phone: 555-4321, Email: michael.brown@example.com\n",
      "ID: 5, First Name: Sarah, Last Name: Davis, Phone: 555-3456, Email: sarah.davis@example.com\n"
     ]
    }
   ],
   "source": [
    "view_contacts()"
   ]
  },
  {
   "cell_type": "code",
   "execution_count": 8,
   "metadata": {},
   "outputs": [],
   "source": [
    "# update a contact\n",
    "def update_contact(contact_id,first_name=None,last_name=None,phone_number=None,email=None):\n",
    "    query='UPDATE contacts SET'\n",
    "    params=[]\n",
    "\n",
    "    if first_name:\n",
    "        query+= ' first_name = ?,'\n",
    "        params.append(first_name)\n",
    "    if last_name:\n",
    "        query+= ' last_name = ?,'\n",
    "        params.append(last_name)\n",
    "    if phone_number:\n",
    "        query+=' phone_number = ?,'\n",
    "        params.append(phone_number)\n",
    "    if email:\n",
    "        query+= ' email = ?,'\n",
    "        params.append(email)\n",
    "    query=query.rstrip(',')  + ' WHERE id = ?'\n",
    "    params.append(contact_id)\n",
    "    \n",
    "    cursor.execute(query,params)\n",
    "    conn.commit()\n",
    "    "
   ]
  },
  {
   "cell_type": "code",
   "execution_count": 9,
   "metadata": {},
   "outputs": [],
   "source": [
    "update_contact(1, phone_number='555-9999', email='john.doe@newdomain.com')\n",
    "update_contact(2, last_name='Doe', email='jane.doe@example.com')\n",
    "update_contact(3, phone_number='555-0000')\n",
    "update_contact(4, first_name='Mike', email='mike.brown@example.com')\n",
    "update_contact(5, last_name='Williams', phone_number='555-6543')\n"
   ]
  },
  {
   "cell_type": "code",
   "execution_count": 10,
   "metadata": {},
   "outputs": [],
   "source": [
    "#delete a contact\n",
    "def delete_contact(contact_id):\n",
    "    cursor.execute('DELETE FROM contacts WHERE id = ?', (contact_id,))\n",
    "    conn.commit()"
   ]
  },
  {
   "cell_type": "code",
   "execution_count": 11,
   "metadata": {},
   "outputs": [],
   "source": [
    "delete_contact(5)"
   ]
  },
  {
   "cell_type": "code",
   "execution_count": 12,
   "metadata": {},
   "outputs": [
    {
     "name": "stdout",
     "output_type": "stream",
     "text": [
      "ID: 1, First Name: John, Last Name: Doe, Phone: 555-9999, Email: john.doe@newdomain.com\n",
      "ID: 2, First Name: Jane, Last Name: Doe, Phone: 555-5678, Email: jane.doe@example.com\n",
      "ID: 3, First Name: Emily, Last Name: Johnson, Phone: 555-0000, Email: emily.johnson@example.com\n",
      "ID: 4, First Name: Mike, Last Name: Brown, Phone: 555-4321, Email: mike.brown@example.com\n"
     ]
    }
   ],
   "source": [
    "view_contacts()"
   ]
  },
  {
   "cell_type": "code",
   "execution_count": 13,
   "metadata": {},
   "outputs": [],
   "source": [
    "#close the connection to the database\n",
    "conn.close()"
   ]
  },
  {
   "cell_type": "markdown",
   "metadata": {},
   "source": [
    "### Explanation:\n",
    "\n",
    "1. **Database Setup** : \n",
    "The `sqlite3.connect('contacts.db')` command connects to the SQLite database file named `contacts.db.` If the file does not exist, it will be created.\n",
    "- The `CREATE TABLE statement` defines the schema for the contacts table with columns for ID, first name, last name, phone number, and email.\n",
    "\n",
    "2. **Functions** : \n",
    "- **add_contact()**: Inserts new contact records into the database.\n",
    "- **view_contacts()**: Retrieves and displays all contacts from the database.\n",
    "- **update_contact()**: Updates existing contact information based on the contact ID.\n",
    "- **delete_contact()**: Deletes a contact record based on the contact ID.\n"
   ]
  },
  {
   "cell_type": "markdown",
   "metadata": {},
   "source": []
  }
 ],
 "metadata": {
  "kernelspec": {
   "display_name": "Python 3",
   "language": "python",
   "name": "python3"
  },
  "language_info": {
   "codemirror_mode": {
    "name": "ipython",
    "version": 3
   },
   "file_extension": ".py",
   "mimetype": "text/x-python",
   "name": "python",
   "nbconvert_exporter": "python",
   "pygments_lexer": "ipython3",
   "version": "3.12.0"
  }
 },
 "nbformat": 4,
 "nbformat_minor": 2
}
