{
 "cells": [
  {
   "cell_type": "markdown",
   "metadata": {},
   "source": [
    "# Project 3: Task Management Application\n",
    "## Objective\n",
    "Create a task management system where users can add,up-date,view and delete tasks.\n",
    "\n",
    "## Setup and Requirements\n",
    "- **Database**: SQLITE\n",
    "- **Technology** : Python"
   ]
  },
  {
   "cell_type": "code",
   "execution_count": 1,
   "metadata": {},
   "outputs": [],
   "source": [
    "import sqlite3"
   ]
  },
  {
   "cell_type": "code",
   "execution_count": 2,
   "metadata": {},
   "outputs": [],
   "source": [
    "conn=sqlite3.connect('tasks.db')"
   ]
  },
  {
   "cell_type": "code",
   "execution_count": 3,
   "metadata": {},
   "outputs": [],
   "source": [
    "cursor=conn.cursor()"
   ]
  },
  {
   "cell_type": "code",
   "execution_count": 4,
   "metadata": {},
   "outputs": [],
   "source": [
    "cursor.execute('''\n",
    "               CREATE TABLE IF NOT EXISTS tasks(\n",
    "                   id INTEGER PRIMARY KEY AUTOINCREMENT,\n",
    "                   task_name TEXT NOT NULL,\n",
    "                   due_date TEXT,\n",
    "                   status TEXT\n",
    "               )\n",
    "               ''')\n",
    "conn.commit()"
   ]
  },
  {
   "cell_type": "code",
   "execution_count": 7,
   "metadata": {},
   "outputs": [],
   "source": [
    "# add a task\n",
    "def add_task(task_name,due_date,status):\n",
    "    cursor.execute('''\n",
    "                   INSERT INTO tasks(task_name,due_date,status)\n",
    "                   VALUES(?,?,?)\n",
    "                   ''',(task_name,due_date,status))\n",
    "    conn.commit()"
   ]
  },
  {
   "cell_type": "code",
   "execution_count": 8,
   "metadata": {},
   "outputs": [],
   "source": [
    "add_task('Complete project report', '2024-09-15', 'Pending')\n",
    "add_task('Prepare for meeting', '2024-09-17', 'In Progress')\n",
    "add_task('Submit tax documents', '2024-09-20', 'Pending')\n",
    "add_task('Book flight tickets', '2024-09-25', 'Completed')"
   ]
  },
  {
   "cell_type": "code",
   "execution_count": 11,
   "metadata": {},
   "outputs": [],
   "source": [
    "# view task\n",
    "def view_tasks():\n",
    "    cursor.execute('SELECT*FROM tasks')\n",
    "    rows=cursor.fetchall()\n",
    "    for row in rows:\n",
    "        print(row)"
   ]
  },
  {
   "cell_type": "code",
   "execution_count": 12,
   "metadata": {},
   "outputs": [
    {
     "name": "stdout",
     "output_type": "stream",
     "text": [
      "(1, 'Complete project report', '2024-09-15', 'Pending')\n",
      "(2, 'Prepare for meeting', '2024-09-17', 'In Progress')\n",
      "(3, 'Submit tax documents', '2024-09-20', 'Pending')\n",
      "(4, 'Book flight tickets', '2024-09-25', 'Completed')\n"
     ]
    }
   ],
   "source": [
    "view_tasks()"
   ]
  },
  {
   "cell_type": "code",
   "execution_count": 17,
   "metadata": {},
   "outputs": [],
   "source": [
    "def update_task(task_id, task_name=None, due_date=None, status=None):\n",
    "    query = 'UPDATE tasks SET'\n",
    "    params = []\n",
    "    \n",
    "    if task_name:\n",
    "        query += ' task_name = ?,'\n",
    "        params.append(task_name)\n",
    "        \n",
    "    if due_date:\n",
    "        query += ' due_date = ?,'\n",
    "        params.append(due_date)\n",
    "        \n",
    "    if status:\n",
    "        query += ' status = ?,'\n",
    "        params.append(status)\n",
    "        \n",
    "    # Remove the trailing comma and add the WHERE clause\n",
    "    query = query.rstrip(',') + ' WHERE id = ?'\n",
    "    params.append(task_id)\n",
    "    \n",
    "    cursor.execute(query, params)\n",
    "    conn.commit()\n"
   ]
  },
  {
   "cell_type": "code",
   "execution_count": 18,
   "metadata": {},
   "outputs": [],
   "source": [
    "# Updating the tasks\n",
    "update_task(1, task_name='Complete final project report', status='In Progress')\n",
    "update_task(2, due_date='2024-09-18', status='Completed')\n",
    "update_task(3, task_name='Submit updated tax documents')\n",
    "update_task(4, due_date='2024-09-26')"
   ]
  },
  {
   "cell_type": "code",
   "execution_count": 19,
   "metadata": {},
   "outputs": [
    {
     "name": "stdout",
     "output_type": "stream",
     "text": [
      "(1, 'Complete final project report', '2024-09-15', 'In Progress')\n",
      "(2, 'Prepare for meeting', '2024-09-18', 'Completed')\n",
      "(3, 'Submit updated tax documents', '2024-09-20', 'Pending')\n",
      "(4, 'Book flight tickets', '2024-09-26', 'Completed')\n"
     ]
    }
   ],
   "source": [
    "view_tasks()"
   ]
  },
  {
   "cell_type": "code",
   "execution_count": 20,
   "metadata": {},
   "outputs": [],
   "source": [
    "# delete task\n",
    "def delete_task(task_id):\n",
    "    cursor.execute('DELETE FROM tasks WHERE id=?',(task_id,))\n",
    "    conn.commit()"
   ]
  },
  {
   "cell_type": "code",
   "execution_count": 21,
   "metadata": {},
   "outputs": [],
   "source": [
    "delete_task(4)"
   ]
  },
  {
   "cell_type": "code",
   "execution_count": 22,
   "metadata": {},
   "outputs": [
    {
     "name": "stdout",
     "output_type": "stream",
     "text": [
      "(1, 'Complete final project report', '2024-09-15', 'In Progress')\n",
      "(2, 'Prepare for meeting', '2024-09-18', 'Completed')\n",
      "(3, 'Submit updated tax documents', '2024-09-20', 'Pending')\n"
     ]
    }
   ],
   "source": [
    "view_tasks()"
   ]
  },
  {
   "cell_type": "code",
   "execution_count": null,
   "metadata": {},
   "outputs": [],
   "source": []
  }
 ],
 "metadata": {
  "kernelspec": {
   "display_name": "Python 3",
   "language": "python",
   "name": "python3"
  },
  "language_info": {
   "codemirror_mode": {
    "name": "ipython",
    "version": 3
   },
   "file_extension": ".py",
   "mimetype": "text/x-python",
   "name": "python",
   "nbconvert_exporter": "python",
   "pygments_lexer": "ipython3",
   "version": "3.12.0"
  }
 },
 "nbformat": 4,
 "nbformat_minor": 2
}
