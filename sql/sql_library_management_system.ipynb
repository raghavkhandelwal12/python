{
 "cells": [
  {
   "cell_type": "markdown",
   "metadata": {},
   "source": [
    "# Project 2: Library Management System\n",
    "## Objectve:\n",
    "Develop a system to manage books in a library,including adding a new books,updating information,viewing book details and removing books.\n",
    "\n",
    "## Setup and Requirements:\n",
    "- **Database** : SQLite\n",
    "- **Technology** : Python\n"
   ]
  },
  {
   "cell_type": "code",
   "execution_count": 1,
   "metadata": {},
   "outputs": [],
   "source": [
    "import sqlite3"
   ]
  },
  {
   "cell_type": "code",
   "execution_count": 2,
   "metadata": {},
   "outputs": [],
   "source": [
    "conn=sqlite3.connect('library.db')"
   ]
  },
  {
   "cell_type": "code",
   "execution_count": 3,
   "metadata": {},
   "outputs": [],
   "source": [
    "cursor=conn.cursor()"
   ]
  },
  {
   "cell_type": "code",
   "execution_count": 5,
   "metadata": {},
   "outputs": [],
   "source": [
    "cursor.execute('''\n",
    "    CREATE TABLE IF NOT EXISTS books (\n",
    "        id INTEGER PRIMARY KEY AUTOINCREMENT,\n",
    "        title TEXT NOT NULL,\n",
    "        author TEXT NOT NULL,\n",
    "        published_date TEXT,\n",
    "        isbn TEXT UNIQUE\n",
    "    )\n",
    "''')\n",
    "conn.commit()"
   ]
  },
  {
   "cell_type": "code",
   "execution_count": 6,
   "metadata": {},
   "outputs": [],
   "source": [
    "# Add a book\n",
    "def add_book(title,author,published_date,isbn):\n",
    "    cursor.execute('''\n",
    "                   INSERT INTO books(title,author,published_date,isbn)\n",
    "                   VALUES(?,?,?,?)\n",
    "                   ''',(title,author,published_date,isbn))\n",
    "    conn.commit()\n",
    "                   "
   ]
  },
  {
   "cell_type": "code",
   "execution_count": 7,
   "metadata": {},
   "outputs": [],
   "source": [
    "add_book('To Kill a Mockingbird', 'Harper Lee', '1960-07-11', '978-0-06-112008-4')\n",
    "add_book('1984', 'George Orwell', '1949-06-08', '978-0-452-28423-4')\n",
    "add_book('Pride and Prejudice', 'Jane Austen', '1813-01-28', '978-0-19-953556-9')\n",
    "add_book('The Great Gatsby', 'F. Scott Fitzgerald', '1925-04-10', '978-0-7432-7356-5')\n",
    "add_book('Moby Dick', 'Herman Melville', '1851-10-18', '978-0-14-243724-7')"
   ]
  },
  {
   "cell_type": "code",
   "execution_count": 8,
   "metadata": {},
   "outputs": [],
   "source": [
    "# view books\n",
    "def view_books():\n",
    "    cursor.execute('SELECT*FROM books')\n",
    "    rows=cursor.fetchall()\n",
    "    for row in rows:\n",
    "        print(row)"
   ]
  },
  {
   "cell_type": "code",
   "execution_count": 9,
   "metadata": {},
   "outputs": [
    {
     "name": "stdout",
     "output_type": "stream",
     "text": [
      "(1, 'To Kill a Mockingbird', 'Harper Lee', '1960-07-11', '978-0-06-112008-4')\n",
      "(2, '1984', 'George Orwell', '1949-06-08', '978-0-452-28423-4')\n",
      "(3, 'Pride and Prejudice', 'Jane Austen', '1813-01-28', '978-0-19-953556-9')\n",
      "(4, 'The Great Gatsby', 'F. Scott Fitzgerald', '1925-04-10', '978-0-7432-7356-5')\n",
      "(5, 'Moby Dick', 'Herman Melville', '1851-10-18', '978-0-14-243724-7')\n"
     ]
    }
   ],
   "source": [
    "view_books()"
   ]
  },
  {
   "cell_type": "code",
   "execution_count": 16,
   "metadata": {},
   "outputs": [],
   "source": [
    "# update and delete tasks\n",
    "def update_book(book_id,title=None,author=None, published_date=None, isbn=None):\n",
    "    query='UPDATE books SET'\n",
    "    params=[]\n",
    "    if title:\n",
    "        query+= ' title=?,'\n",
    "        params.append(title)\n",
    "    if author:\n",
    "        query+= ' author=?,'\n",
    "        params.append(author)\n",
    "    if published_date:\n",
    "        query+= 'published_date=?,'\n",
    "        params.append(published_date)\n",
    "    if isbn:\n",
    "        query+= ' isbn=?,'\n",
    "        params.append(isbn)\n",
    "    query=query.rstrip(',') + ' WHERE id = ?'\n",
    "    params.append(book_id)\n",
    "    cursor.execute(query,params)\n",
    "    conn.commit()"
   ]
  },
  {
   "cell_type": "code",
   "execution_count": 17,
   "metadata": {},
   "outputs": [],
   "source": [
    "def delete_book(book_id):\n",
    "    cursor.execute('DELETE FROM books WHERE id=?',(book_id,))\n",
    "    conn.commit()"
   ]
  },
  {
   "cell_type": "code",
   "execution_count": 18,
   "metadata": {},
   "outputs": [
    {
     "name": "stdout",
     "output_type": "stream",
     "text": [
      "(1, 'To Kill a Mockingbird (Updated)', 'Harper Lee (Updated)', '1960-07-11', '978-0-06-112008-4')\n",
      "(2, '1984', 'George Orwell', '1949-06-08', '978-0-452-28423-4')\n",
      "(3, 'Pride and Prejudice', 'Jane Austen', '1813-01-28', '978-0-19-953556-9')\n",
      "(4, 'The Great Gatsby', 'F. Scott Fitzgerald', '1925-04-10', '978-0-7432-7356-5')\n",
      "(5, 'Moby Dick', 'Herman Melville', '1851-10-18', '978-0-14-243724-7')\n"
     ]
    }
   ],
   "source": [
    "view_books()"
   ]
  },
  {
   "cell_type": "code",
   "execution_count": 19,
   "metadata": {},
   "outputs": [],
   "source": [
    "delete_book(5)"
   ]
  },
  {
   "cell_type": "code",
   "execution_count": 20,
   "metadata": {},
   "outputs": [
    {
     "name": "stdout",
     "output_type": "stream",
     "text": [
      "(1, 'To Kill a Mockingbird (Updated)', 'Harper Lee (Updated)', '1960-07-11', '978-0-06-112008-4')\n",
      "(2, '1984', 'George Orwell', '1949-06-08', '978-0-452-28423-4')\n",
      "(3, 'Pride and Prejudice', 'Jane Austen', '1813-01-28', '978-0-19-953556-9')\n",
      "(4, 'The Great Gatsby', 'F. Scott Fitzgerald', '1925-04-10', '978-0-7432-7356-5')\n"
     ]
    }
   ],
   "source": [
    "view_books()"
   ]
  },
  {
   "cell_type": "code",
   "execution_count": null,
   "metadata": {},
   "outputs": [],
   "source": []
  }
 ],
 "metadata": {
  "kernelspec": {
   "display_name": "Python 3",
   "language": "python",
   "name": "python3"
  },
  "language_info": {
   "codemirror_mode": {
    "name": "ipython",
    "version": 3
   },
   "file_extension": ".py",
   "mimetype": "text/x-python",
   "name": "python",
   "nbconvert_exporter": "python",
   "pygments_lexer": "ipython3",
   "version": "3.12.0"
  }
 },
 "nbformat": 4,
 "nbformat_minor": 2
}
