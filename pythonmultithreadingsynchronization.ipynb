{
 "cells": [
  {
   "attachments": {
    "image.png": {
     "image/png": "[encoded data removed]"
    }
   },
   "cell_type": "markdown",
   "metadata": {},
   "source": [
    "# Thread Synchronization\n",
    "Thread synchronization is defined as a mechanism which ensures that two or more concurrent thread do not simulataneously execute some particular prgram segment known as critical section.\n",
    "\n",
    "- `Critical Section` refers to the parts of the program where the shared resource is access.\n",
    "\n",
    "- In below example 3 threads try to access shared resource or critical section at the same time\n",
    "\n",
    "\n",
    "![image.png](attachment:image.png)\n",
    "\n",
    "\n",
    "- Concurrent accesses to shared resources can read to race condition\n",
    "\n",
    "\n",
    "** `What is the race condtion`**\n",
    "- A race condition occurs when two or more threads can access shared data and they try to change it at the same time"
   ]
  },
  {
   "cell_type": "code",
   "execution_count": 1,
   "metadata": {},
   "outputs": [
    {
     "name": "stdout",
     "output_type": "stream",
     "text": [
      "iteration0:x=20000\n",
      "iteration1:x=20000\n",
      "iteration2:x=20000\n",
      "iteration3:x=20000\n",
      "iteration4:x=20000\n",
      "iteration5:x=20000\n",
      "iteration6:x=20000\n",
      "iteration7:x=20000\n",
      "iteration8:x=20000\n",
      "iteration9:x=20000\n"
     ]
    }
   ],
   "source": [
    "import threading\n",
    "#global variabel x\n",
    "x=0\n",
    "\n",
    "def increment():\n",
    "    \"\"\"\n",
    "    function to increment global variablex\n",
    "    \"\"\"\n",
    "    global x\n",
    "    x+=1\n",
    "    \n",
    "def thread_task():\n",
    "    \"\"\"\n",
    "    task for thread\n",
    "    calls increment function 10000 times\n",
    "    \"\"\"\n",
    "    for _ in range(10000):\n",
    "        increment()\n",
    "\n",
    "def main_task():\n",
    "    global x\n",
    "    #setting global variable x as zero\n",
    "    x=0\n",
    "    \n",
    "    #creating threads\n",
    "    t1=threading.Thread(target=thread_task)\n",
    "    t2=threading.Thread(target=thread_task)\n",
    "    \n",
    "    #start threads\n",
    "    t1.start()\n",
    "    t2.start()\n",
    "    \n",
    "    #wait until threads finish our job\n",
    "    \n",
    "    t1.join()\n",
    "    t2.join()\n",
    "    \n",
    "if __name__==\"__main__\":\n",
    "    for i in range(10):\n",
    "        main_task()\n",
    "        print(\"iteration{0}:x={1}\".format(i,x))\n",
    "    "
   ]
  },
  {
   "cell_type": "code",
   "execution_count": 2,
   "metadata": {},
   "outputs": [
    {
     "name": "stdout",
     "output_type": "stream",
     "text": [
      "Iteration 0: x = 200000\n",
      "Iteration 1: x = 200000\n",
      "Iteration 2: x = 200000\n",
      "Iteration 3: x = 200000\n",
      "Iteration 4: x = 200000\n",
      "Iteration 5: x = 200000\n",
      "Iteration 6: x = 200000\n",
      "Iteration 7: x = 200000\n",
      "Iteration 8: x = 200000\n",
      "Iteration 9: x = 200000\n"
     ]
    }
   ],
   "source": [
    "import threading \n",
    "  \n",
    "# global variable x \n",
    "x = 0\n",
    "  \n",
    "def increment(): \n",
    "    \"\"\" \n",
    "    function to increment global variable x \n",
    "    \"\"\"\n",
    "    global x \n",
    "    x += 1\n",
    "  \n",
    "def thread_task(): \n",
    "    \"\"\" \n",
    "    task for thread \n",
    "    calls increment function 100000 times. \n",
    "    \"\"\"\n",
    "    for _ in range(100000): \n",
    "        increment() \n",
    "  \n",
    "def main_task(): \n",
    "    global x \n",
    "    # setting global variable x as 0 \n",
    "    x = 0\n",
    "  \n",
    "    # creating threads \n",
    "    t1 = threading.Thread(target=thread_task) \n",
    "    t2 = threading.Thread(target=thread_task) \n",
    "  \n",
    "    # start threads \n",
    "    t1.start() \n",
    "    t2.start() \n",
    "  \n",
    "    # wait until threads finish their job \n",
    "    t1.join() \n",
    "    t2.join() \n",
    "  \n",
    "if __name__ == \"__main__\": \n",
    "    for i in range(10): \n",
    "        main_task() \n",
    "        print(\"Iteration {0}: x = {1}\".format(i,x)) "
   ]
  },
  {
   "cell_type": "markdown",
   "metadata": {},
   "source": [
    "To prevent race conditions(where threads shared resources concurrently) python provides synchronization primitive like lock\n"
   ]
  },
  {
   "cell_type": "code",
   "execution_count": 3,
   "metadata": {},
   "outputs": [
    {
     "name": "stdout",
     "output_type": "stream",
     "text": [
      "Final counter value:10000\n"
     ]
    }
   ],
   "source": [
    "import threading\n",
    "counter=0\n",
    "lock=threading.Lock()\n",
    "\n",
    "def increament_counter():\n",
    "    global counter\n",
    "    for _ in range(1000):\n",
    "        lock.acquire()\n",
    "        counter+=1\n",
    "        lock.release()\n",
    "        \n",
    "#create threads\n",
    "threads=[threading.Thread(target=increament_counter) for _ in range(10)]\n",
    "\n",
    "#start threads\n",
    "for thread in threads:\n",
    "    thread.start()\n",
    "\n",
    "#wait for all thread to complete\n",
    "for thread in threads:\n",
    "    thread.join()\n",
    "\n",
    "print(f\"Final counter value:{counter}\")\n",
    "\n",
    "    "
   ]
  },
  {
   "cell_type": "code",
   "execution_count": 4,
   "metadata": {},
   "outputs": [
    {
     "name": "stdout",
     "output_type": "stream",
     "text": [
      "fetched1256bytes from http://example.comfetched1256bytes from http://example.org\n",
      "\n",
      "fetched1256bytes from http://example.net\n",
      "All data fetched.\n"
     ]
    }
   ],
   "source": [
    "#practical use case synchronization\n",
    "\n",
    "import threading\n",
    "import requests\n",
    "\n",
    "def fetch_data(url):\n",
    "    response=requests.get(url)\n",
    "    print(f\"fetched{len(response.content)}bytes from {url}\")\n",
    "urls=[\"http://example.com\", \"http://example.org\", \"http://example.net\"]\n",
    "\n",
    "#create thread for each url\n",
    "threads=[threading.Thread(target=fetch_data,args=(url,))for url in urls]\n",
    "# Start threads\n",
    "for thread in threads:\n",
    "    thread.start()\n",
    "\n",
    "# Wait for all threads to complete\n",
    "for thread in threads:\n",
    "    thread.join()\n",
    "\n",
    "print(\"All data fetched.\")"
   ]
  },
  {
   "cell_type": "code",
   "execution_count": 5,
   "metadata": {},
   "outputs": [
    {
     "name": "stdout",
     "output_type": "stream",
     "text": [
      "Number: 1\n",
      "Letter: A\n",
      "Number: 2\n",
      "Letter: B\n",
      "Number: 3\n",
      "Number: 4\n",
      "Letter: C\n",
      "Number: 5\n",
      "Letter: D\n",
      "Letter: E\n",
      "Both threads have finished execution.\n"
     ]
    }
   ],
   "source": [
    "\n",
    "import threading\n",
    "import time\n",
    "\n",
    "def print_numbers():\n",
    "    for i in range(1, 6):\n",
    "        print(f\"Number: {i}\")\n",
    "        time.sleep(1)\n",
    "\n",
    "def print_letters():\n",
    "    for letter in ['A', 'B', 'C', 'D', 'E']:\n",
    "        print(f\"Letter: {letter}\")\n",
    "        time.sleep(1.5)\n",
    "\n",
    "# Create two threads\n",
    "thread1 = threading.Thread(target=print_numbers)\n",
    "thread2 = threading.Thread(target=print_letters)\n",
    "\n",
    "# Start threads\n",
    "thread1.start()\n",
    "thread2.start()\n",
    "\n",
    "# Wait for both threads to finish\n",
    "thread1.join()\n",
    "thread2.join()\n",
    "\n",
    "print(\"Both threads have finished execution.\")"
   ]
  },
  {
   "cell_type": "code",
   "execution_count": null,
   "metadata": {},
   "outputs": [],
   "source": []
  }
 ],
 "metadata": {
  "kernelspec": {
   "display_name": "Python 3",
   "language": "python",
   "name": "python3"
  },
  "language_info": {
   "codemirror_mode": {
    "name": "ipython",
    "version": 3
   },
   "file_extension": ".py",
   "mimetype": "text/x-python",
   "name": "python",
   "nbconvert_exporter": "python",
   "pygments_lexer": "ipython3",
   "version": "3.12.0"
  }
 },
 "nbformat": 4,
 "nbformat_minor": 2
}
