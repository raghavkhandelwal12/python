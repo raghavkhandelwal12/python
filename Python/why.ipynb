### Whetting Your Appetite
- `Automation Needs`: Automate tasks like search and replace,file management,custom database,GUIs,or simple games.
- `Developer Efficiency`: Python speeds up development compared to C/C++/Java's slow write/compile/test cycle.
- `Ease of Use` : Simple and quicker to develop with shell scripts for GUI apps or games.
- `Real Programming Language` : Offers more structure and error checking than shell scripts or batch files.
- `High-Level Data Types`: Built in flexible arrays and dictionaries handle complex operations easily.
- `Reusability`: Programs can be splits into modules. Comes with a large collection of standard modules.
- `Interpreted Language`: Saves development time by eliminating the need for compilation and linking.
- `Interactive Interpreter`: Ideal for experimentation,throw-away programs,and testing.
- `Compact and Readable Code` : Python programs are shorter and easier to read due to high-level data types,indentation,and no need for variable declarations.
- `Extensible`: Add new built-in function or modules in C,like to binary libraries.
- `Monty Python Influence` : Named afterr teh show,encourages references to it in documentation


- `The tutorial will guide you through Python features with example,starting with basics and moving to advanced concept.`
