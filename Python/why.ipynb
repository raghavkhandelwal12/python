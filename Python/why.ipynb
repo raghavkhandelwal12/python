{
 "cells": [
  {
   "cell_type": "markdown",
   "metadata": {},
   "source": [
    "### Whetting Your Appetite\n",
    "- `Automation Needs`: Automate tasks like search and replace,file management,custom database,GUIs,or simple games.\n",
    "- `Developer Efficiency`: Python speeds up development compared to C/C++/Java's slow write/compile/test cycle.\n",
    "- `Ease of Use` : Simple and quicker to develop with shell scripts for GUI apps or games.\n",
    "- `Real Programming Language` : Offers more structure and error checking than shell scripts or batch files.\n",
    "- `High-Level Data Types`: Built in flexible arrays and dictionaries handle complex operations easily.\n",
    "- `Reusability`: Programs can be splits into modules. Comes with a large collection of standard modules.\n",
    "- `Interpreted Language`: Saves development time by eliminating the need for compilation and linking.\n",
    "- `Interactive Interpreter`: Ideal for experimentation,throw-away programs,and testing.\n",
    "- `Compact and Readable Code` : Python programs are shorter and easier to read due to high-level data types,indentation,and no need for variable declarations.\n",
    "- `Extensible`: Add new built-in function or modules in C,like to binary libraries.\n",
    "- `Monty Python Influence` : Named afterr teh show,encourages references to it in documentation\n",
    "\n",
    "\n",
    "- `The tutorial will guide you through Python features with example,starting with basics and moving to advanced concept.`"
   ]
  },
  {
   "cell_type": "markdown",
   "metadata": {},
   "source": []
  }
 ],
 "metadata": {
  "language_info": {
   "name": "python"
  }
 },
 "nbformat": 4,
 "nbformat_minor": 2
}
