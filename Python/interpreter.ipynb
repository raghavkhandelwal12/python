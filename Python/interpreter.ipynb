## Using the Python Interpreter
1. `Invoking the Interpreter`: The interpreter is typically installed at /usr/local/bin/python3.13 on unix systems and can be invoked with python3.13
- On windows,use python3.13 or the py command if the launcher is intalled.
- You can exit the interpreter with quit() or using the end-of-file character(Ctrl-D on Unix,Ctrl-Z on windows)
2. `Command-Line Options`: Run commands directly:`python -c "command"`.
- Run a module as script:`python -m module`.
- Enter interactive mode after script execution: `python -i script.py`.
3. `Line Editing and History`: Features like interactive editing,history substitution,and code completion are supported on systems with GNU Readline.
- Test command-line editing with Ctrl-P at the Python promt.
4. `Argument Passing(sys.argv)`:Scripts arguments are accessible via  the `sys.argv` list.
- Different values of `sys.argv[0]`:
- Empty string:No scripts or arguments provided.
- `-` : Standard input used as the script.
- `-c` : Command passed with `-c`.
- Module name: When executed with `-m`.
5. `Interactive Mode`: When commands are read from a terminal,python operates in interactive mode.
- Primary:`>>>`.
- Continuation:`...`.
# Example
>>> the_world_is_flat = True
>>> if the_world_is_flat:
...     print("Be careful not to fall off!")
Be careful not to fall off!

