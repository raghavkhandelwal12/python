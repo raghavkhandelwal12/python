{
 "cells": [
  {
   "cell_type": "markdown",
   "metadata": {},
   "source": [
    "\n",
    "# Multithreading in python\n",
    "Multithreading is a way of achieving multitasking.In multithreading,the concept thread is used.\n",
    "\n",
    "## What is process in python?\n",
    "A **process** is an instance of computer program that is being executed.Any process has 3 basic concepts.\n",
    "- An executable program.\n",
    "- The associated data needed by the program.\n",
    "- The execution context of the program(state of the processes)\n",
    "\n",
    "## Intro to python threading.\n",
    "A thread is an entity within a process that can be scheduled for execution.Also it is the smallest unit of processing that can be performed in an os.In simple words a thread is a sequence  of such instructions within a  program that can executed independently of other code.A thread contain all this information  in a thread control block.\n",
    "\n",
    "- **Thread identifier** : unique id(TIB) is assigned to every new thread\n",
    "- **Stack pointer** : Points to the thread stack in the process.The stack contains the local variable under the thread scope\n",
    "- **Program counter** : A register that stores the address of the instruction currently being executed by thread.\n",
    "- **Thread state** : can be running ,ready ,waiting,starting or done.\n",
    "- **Thread register set**: register assigned to thread for computations.\n",
    "- **Parent process pointer**: A pointer to process control bolock of the process that the thread lives on\n"
   ]
  },
  {
   "cell_type": "code",
   "execution_count": 1,
   "metadata": {},
   "outputs": [],
   "source": [
    "# import module\n",
    "import threading"
   ]
  },
  {
   "cell_type": "code",
   "execution_count": 3,
   "metadata": {},
   "outputs": [],
   "source": [
    "#create a thread\n",
    "#to creat a new thread we create an object of the thread class.It takes the target and argument as the parameter.the target is the function to be executed by the thread whereas the args is the arguments to be passed to the target function\n",
    "# t1=threading.Thread(target,args)\n",
    "# t2=threading.Thread(target,args)"
   ]
  },
  {
   "cell_type": "code",
   "execution_count": 5,
   "metadata": {},
   "outputs": [],
   "source": [
    "# #Start a thread\n",
    "# t1.start()\n",
    "# t2.start()"
   ]
  },
  {
   "cell_type": "code",
   "execution_count": 8,
   "metadata": {},
   "outputs": [],
   "source": [
    "#end the thread execution\n",
    "#to stop the execution of the current program until a thread is complete,we use the join method()\n",
    "# t1.join()\n",
    "# t2.join()"
   ]
  },
  {
   "cell_type": "code",
   "execution_count": 9,
   "metadata": {},
   "outputs": [],
   "source": [
    "#as a result the current program will first wait  for the completion of the t1 and then t2"
   ]
  },
  {
   "cell_type": "code",
   "execution_count": 26,
   "metadata": {},
   "outputs": [
    {
     "name": "stdout",
     "output_type": "stream",
     "text": [
      "square:100cube:1000\n",
      "\n",
      "done\n"
     ]
    }
   ],
   "source": [
    "import threading\n",
    "def print_cube(num):\n",
    "    print(\"cube:{}\".format(num*num*num))\n",
    "\n",
    "def print_square(num):\n",
    "    print('square:{}'.format(num*num))\n",
    "    \n",
    "if __name__==\"__main__\":\n",
    "    t1=threading.Thread(target=print_square,args=(10,))\n",
    "    t2=threading.Thread(target=print_cube,args=(10,))\n",
    "    \n",
    "    t1.start()\n",
    "    t2.start()\n",
    "    \n",
    "    t1.join\n",
    "    t2.join\n",
    "    print('done')\n",
    "    \n"
   ]
  },
  {
   "cell_type": "code",
   "execution_count": 20,
   "metadata": {},
   "outputs": [
    {
     "name": "stdout",
     "output_type": "stream",
     "text": [
      "square: 100\n",
      "cube: 1000\n",
      "done\n"
     ]
    }
   ],
   "source": [
    "import threading\n",
    "\n",
    "def print_cube(num):\n",
    "    print(\"cube: {}\".format(num * num * num))\n",
    "\n",
    "def print_square(num):\n",
    "    print(\"square: {}\".format(num * num))\n",
    "\n",
    "if __name__ == \"__main__\":\n",
    "    t1 = threading.Thread(target=print_square, args=(10,))\n",
    "    t2 = threading.Thread(target=print_cube, args=(10,))\n",
    "    \n",
    "    t1.start()\n",
    "    t2.start()\n",
    "    \n",
    "    t1.join()\n",
    "    t2.join()\n",
    "    \n",
    "    print('done')\n"
   ]
  },
  {
   "cell_type": "code",
   "execution_count": 23,
   "metadata": {},
   "outputs": [
    {
     "name": "stdout",
     "output_type": "stream",
     "text": [
      "id of process running main program:8860\n",
      "Main thread name:MainThread\n",
      "task 1 assigned to thread:t1\n",
      "Id of process running task 1:8860\n",
      "task2 assigned to thread: t2\n",
      "Id of process running task 2:8860\n"
     ]
    }
   ],
   "source": [
    "import threading\n",
    "import os\n",
    "def task1():\n",
    "    print('task 1 assigned to thread:{}'.format(threading.current_thread().name))\n",
    "    print('Id of process running task 1:{}'.format(os.getpid()))\n",
    "\n",
    "def task2():\n",
    "    print('task2 assigned to thread: {}'.format(threading.current_thread().name)) \n",
    "    print(\"Id of process running task 2:{}\".format(os.getpid()))\n",
    "    \n",
    "if __name__==\"__main__\":\n",
    "    print('id of process running main program:{}'.format(os.getpid()))\n",
    "    print('Main thread name:{}'.format(threading.current_thread().name)) \n",
    "    \n",
    "    t1=threading.Thread(target=task1,name='t1')\n",
    "    t2=threading.Thread(target=task2,name='t2')\n",
    "    \n",
    "    t1.start()\n",
    "    t2.start()\n",
    "    \n",
    "    t1.join()\n",
    "    t2.join\n",
    "    \n",
    "    "
   ]
  },
  {
   "cell_type": "code",
   "execution_count": 24,
   "metadata": {},
   "outputs": [
    {
     "name": "stdout",
     "output_type": "stream",
     "text": [
      "worker thread running\n",
      "worker thread running\n",
      "Main thread continuing to run\n"
     ]
    }
   ],
   "source": [
    "#Python thread pool\n",
    "#A thread pool is a collection of threads that are created in advance  and can be reuesed to execute multiple tasks.\n",
    "#this code uses a thread pool create with concurrent.futures.ThreadPoolExecutor to run two worker tasks concureently.\n",
    "\n",
    "import concurrent.futures\n",
    "def worker():\n",
    "    print('worker thread running')\n",
    "pool=concurrent.futures.ThreadPoolExecutor(max_workers=2)\n",
    "pool.submit(worker)\n",
    "pool.submit(worker)\n",
    "\n",
    "pool.shutdown(wait=True)\n",
    "print('Main thread continuing to run')"
   ]
  },
  {
   "cell_type": "markdown",
   "metadata": {},
   "source": [
    "# Multithreading\n",
    "Multithreading in python allows to execution of multiple threads.It is useful for i/o bound tasks like `reading files` ,`newtork` operation etc."
   ]
  },
  {
   "cell_type": "markdown",
   "metadata": {},
   "source": [
    "**Key Concept**\n",
    "- `Thread`: The smallest unit of a process,running in a shared memory space.\n",
    "- `Multithreading`: Running multiple threads concurrently  within a single process.\n",
    "- `GIL(GLOBAL INTERPRETER LOCK)`: A mutex that protect access to python object,prevent multiple native threads from execution.\n"
   ]
  },
  {
   "cell_type": "markdown",
   "metadata": {},
   "source": [
    "**Creating and Running threads**\n"
   ]
  },
  {
   "cell_type": "code",
   "execution_count": 30,
   "metadata": {},
   "outputs": [
    {
     "name": "stdout",
     "output_type": "stream",
     "text": [
      "Number:1\n",
      "letters:A\n",
      "Number:2\n",
      "letters:B\n",
      "Number:3\n",
      "Number:4\n",
      "letters:C\n",
      "Number:5\n",
      "letters:D\n",
      "letters:E\n",
      "both thread have finished execution\n"
     ]
    }
   ],
   "source": [
    "import threading\n",
    "import time\n",
    "def print_number():\n",
    "    for i in range(1,6):\n",
    "        print(f\"Number:{i}\")\n",
    "        time.sleep(1)\n",
    "        \n",
    "def print_letter():\n",
    "    for letter in ['A','B','C','D','E']:\n",
    "        print(f\"letters:{letter}\")\n",
    "        time.sleep(1.5)\n",
    "        \n",
    "    \n",
    "#creating two threads\n",
    "thread1=threading.Thread(target=print_number)\n",
    "thread2=threading.Thread(target=print_letter)\n",
    "\n",
    "#start threads\n",
    "thread1.start()\n",
    "thread2.start()\n",
    "\n",
    "#wait for both thread to finish\n",
    "thread1.join()\n",
    "thread2.join()\n",
    "\n",
    "print('both thread have finished execution')\n"
   ]
  },
  {
   "cell_type": "markdown",
   "metadata": {},
   "source": [
    "## Explanation\n",
    "\n",
    "1. **Importing the threading mdoule**:To use threads, you need to import the threading module.\n",
    "2. **Defining function**: We define two functions. print numbers and print letters.Each function simulates a task by printing number and printing letter with delays\n",
    "3. **Creating thread object** : Thread1 and thread 2 are thread object targeting print_number and print_leter functions.\n",
    "4. **starting threads** : start() method initiate the thread activity.\n",
    "5. **Joining threads** : join() method ensures that the main program waits for thread to complete before procedding\n"
   ]
  },
  {
   "cell_type": "markdown",
   "metadata": {},
   "source": [
    "**Advantages Of Multithreading**\n",
    "\n",
    "- **Improve performance**: Especially for i/o bounded tasks as threads can run while waiting for i/o operation to complete.\n",
    "\n",
    "- **Simple program design**: easier to model concurrent tasks."
   ]
  },
  {
   "cell_type": "markdown",
   "metadata": {},
   "source": [
    "**Disadvantages of Multithreading**\n",
    "\n",
    "- **GIL limitation** : The global interpreter lock limits the execution of multiple threads in python,making it inefficient for cpu bound task.\n",
    "\n",
    "- **Complexity** : Handling synchronization issue and ensureing thread safe operation can be challenging."
   ]
  },
  {
   "cell_type": "markdown",
   "metadata": {},
   "source": [
    "# Synchronization\n",
    "To prevent race conditions,python provide synchronization primitive like lock."
   ]
  },
  {
   "cell_type": "code",
   "execution_count": 34,
   "metadata": {},
   "outputs": [
    {
     "name": "stdout",
     "output_type": "stream",
     "text": [
      "final counter value:100000\n"
     ]
    }
   ],
   "source": [
    "import threading\n",
    "counter=0\n",
    "lock=threading.Lock()\n",
    "\n",
    "def increment_counter():\n",
    "    global counter\n",
    "    for _ in range(10000):\n",
    "        lock.acquire()\n",
    "        counter+=1\n",
    "        lock.release()\n",
    "    \n",
    "#create threads\n",
    "threads=[threading.Thread(target=increment_counter)for _ in range(10)]\n",
    "#start threads\n",
    "for thread in threads:\n",
    "    thread.start()\n",
    "    \n",
    "#wait for all thread to complete\n",
    "for thread in threads:\n",
    "    thread.join()\n",
    "    \n",
    "print(f\"final counter value:{counter}\")\n",
    "    "
   ]
  },
  {
   "cell_type": "markdown",
   "metadata": {},
   "source": [
    "**Explanation**\n",
    "1. **Lock object:** `lock=threading.Lock()` create a lock object.\n",
    "\n",
    "2. **Acquiring and releasing the lock** : `lock.acquire()` and `lock.release()` ensure that only on thread modifies the counter at a time, preventing race condtion.\n"
   ]
  },
  {
   "cell_type": "markdown",
   "metadata": {},
   "source": [
    "**Preactical use case**"
   ]
  },
  {
   "cell_type": "code",
   "execution_count": 37,
   "metadata": {},
   "outputs": [
    {
     "ename": "RuntimeError",
     "evalue": "threads can only be started once",
     "output_type": "error",
     "traceback": [
      "\u001b[1;31m---------------------------------------------------------------------------\u001b[0m",
      "\u001b[1;31mRuntimeError\u001b[0m                              Traceback (most recent call last)",
      "Cell \u001b[1;32mIn[37], line 12\u001b[0m\n\u001b[0;32m     10\u001b[0m     \u001b[38;5;66;03m# Start threads\u001b[39;00m\n\u001b[0;32m     11\u001b[0m \u001b[38;5;28;01mfor\u001b[39;00m thread \u001b[38;5;129;01min\u001b[39;00m threads:\n\u001b[1;32m---> 12\u001b[0m     \u001b[43mthread\u001b[49m\u001b[38;5;241;43m.\u001b[39;49m\u001b[43mstart\u001b[49m\u001b[43m(\u001b[49m\u001b[43m)\u001b[49m\n\u001b[0;32m     14\u001b[0m \u001b[38;5;66;03m# Wait for all threads to complete\u001b[39;00m\n\u001b[0;32m     15\u001b[0m \u001b[38;5;28;01mfor\u001b[39;00m thread \u001b[38;5;129;01min\u001b[39;00m threads:\n",
      "File \u001b[1;32mc:\\Users\\pc\\AppData\\Local\\Programs\\Python\\Python312\\Lib\\threading.py:966\u001b[0m, in \u001b[0;36mThread.start\u001b[1;34m(self)\u001b[0m\n\u001b[0;32m    963\u001b[0m     \u001b[38;5;28;01mraise\u001b[39;00m \u001b[38;5;167;01mRuntimeError\u001b[39;00m(\u001b[38;5;124m\"\u001b[39m\u001b[38;5;124mthread.__init__() not called\u001b[39m\u001b[38;5;124m\"\u001b[39m)\n\u001b[0;32m    965\u001b[0m \u001b[38;5;28;01mif\u001b[39;00m \u001b[38;5;28mself\u001b[39m\u001b[38;5;241m.\u001b[39m_started\u001b[38;5;241m.\u001b[39mis_set():\n\u001b[1;32m--> 966\u001b[0m     \u001b[38;5;28;01mraise\u001b[39;00m \u001b[38;5;167;01mRuntimeError\u001b[39;00m(\u001b[38;5;124m\"\u001b[39m\u001b[38;5;124mthreads can only be started once\u001b[39m\u001b[38;5;124m\"\u001b[39m)\n\u001b[0;32m    968\u001b[0m \u001b[38;5;28;01mwith\u001b[39;00m _active_limbo_lock:\n\u001b[0;32m    969\u001b[0m     _limbo[\u001b[38;5;28mself\u001b[39m] \u001b[38;5;241m=\u001b[39m \u001b[38;5;28mself\u001b[39m\n",
      "\u001b[1;31mRuntimeError\u001b[0m: threads can only be started once"
     ]
    }
   ],
   "source": [
    "import threading\n",
    "import requests\n",
    "def fetch_data(url):\n",
    "    response=requests.get(url)\n",
    "    print(f\"fetched {len(response.content)}, bytes from {url}\")\n",
    "    \n",
    "    #create thread for each url\n",
    "    urls = [\"http://example.com\", \"http://example.org\", \"http://example.net\"]\n",
    "    threads=[threading.Thread(target=fetch_data,args=(url,))for url in urls]\n",
    "    # Start threads\n",
    "for thread in threads:\n",
    "    thread.start()\n",
    "\n",
    "# Wait for all threads to complete\n",
    "for thread in threads:\n",
    "    thread.join()\n",
    "\n",
    "print(\"All data fetched.\")"
   ]
  },
  {
   "cell_type": "code",
   "execution_count": 40,
   "metadata": {},
   "outputs": [
    {
     "name": "stdout",
     "output_type": "stream",
     "text": [
      "Fetched 1256 bytes from http://example.net\n",
      "Fetched 1256 bytes from http://example.com\n",
      "Fetched 1256 bytes from http://example.org\n",
      "All data fetched.\n"
     ]
    }
   ],
   "source": [
    "import threading\n",
    "import requests\n",
    "\n",
    "def fetch_data(url):\n",
    "    response = requests.get(url)\n",
    "    print(f\"Fetched {len(response.content)} bytes from {url}\")\n",
    "\n",
    "# Create a list of URLs\n",
    "urls = [\"http://example.com\", \"http://example.org\", \"http://example.net\"]\n",
    "\n",
    "# Create a thread for each URL\n",
    "threads = [threading.Thread(target=fetch_data, args=(url,)) for url in urls]\n",
    "\n",
    "# Start threads\n",
    "for thread in threads:\n",
    "    thread.start()\n",
    "\n",
    "# Wait for all threads to complete\n",
    "for thread in threads:\n",
    "    thread.join()\n",
    "\n",
    "print(\"All data fetched.\")\n"
   ]
  },
  {
   "cell_type": "code",
   "execution_count": 39,
   "metadata": {},
   "outputs": [
    {
     "name": "stdout",
     "output_type": "stream",
     "text": [
      "Fetched 1256 bytes from http://example.orgFetched 1256 bytes from http://example.com\n",
      "\n",
      "Fetched 1256 bytes from http://example.net\n",
      "All data fetched.\n"
     ]
    }
   ],
   "source": [
    "import threading\n",
    "import requests\n",
    "\n",
    "def fetch_data(url):\n",
    "    response = requests.get(url)\n",
    "    print(f\"Fetched {len(response.content)} bytes from {url}\")\n",
    "\n",
    "# Create a list of URLs\n",
    "urls = [\"http://example.com\", \"http://example.org\", \"http://example.net\"]\n",
    "\n",
    "# Create a thread for each URL\n",
    "threads = [threading.Thread(target=fetch_data, args=(url,)) for url in urls]\n",
    "\n",
    "# Start threads\n",
    "for thread in threads:\n",
    "    thread.start()\n",
    "\n",
    "# Wait for all threads to complete\n",
    "for thread in threads:\n",
    "    thread.join()\n",
    "\n",
    "print(\"All data fetched.\")\n"
   ]
  },
  {
   "cell_type": "code",
   "execution_count": null,
   "metadata": {},
   "outputs": [],
   "source": []
  }
 ],
 "metadata": {
  "kernelspec": {
   "display_name": "Python 3",
   "language": "python",
   "name": "python3"
  },
  "language_info": {
   "codemirror_mode": {
    "name": "ipython",
    "version": 3
   },
   "file_extension": ".py",
   "mimetype": "text/x-python",
   "name": "python",
   "nbconvert_exporter": "python",
   "pygments_lexer": "ipython3",
   "version": "3.12.0"
  }
 },
 "nbformat": 4,
 "nbformat_minor": 2
}
