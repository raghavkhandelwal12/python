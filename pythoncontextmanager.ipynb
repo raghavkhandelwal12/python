{
 "cells": [
  {
   "cell_type": "code",
   "execution_count": null,
   "metadata": {},
   "outputs": [],
   "source": [
    "# context manager in python\n"
   ]
  },
  {
   "cell_type": "markdown",
   "metadata": {},
   "source": [
    "**Creating a context manager**:When creating context managers using classes,user need to ensure that the class has the methods:\n",
    "- __enter__() and __exit__().The __enter__() return the resources that nedds to be managed and the __exit__()does not return anything but performs the cleanup operations."
   ]
  },
  {
   "cell_type": "code",
   "execution_count": 13,
   "metadata": {},
   "outputs": [
    {
     "name": "stdout",
     "output_type": "stream",
     "text": [
      "init method is called\n",
      "enter method called\n",
      "with statement block\n",
      "exist method is called\n"
     ]
    }
   ],
   "source": [
    "#python program creating a \n",
    "#context manager\n",
    "\n",
    "\n",
    "class ContextManager():\n",
    "    def __init__(self):\n",
    "        \n",
    "        print('init method is called')\n",
    "        \n",
    "    def __enter__(self):\n",
    "        print('enter method called')\n",
    "        return self\n",
    "    \n",
    "    def __exit__(self,exc_type,exc_value,exc_traceback):\n",
    "        print('exist method is called')\n",
    "\n",
    "with ContextManager() as manager:\n",
    "    print('with statement block')\n",
    "        "
   ]
  },
  {
   "cell_type": "code",
   "execution_count": 18,
   "metadata": {},
   "outputs": [
    {
     "ename": "TypeError",
     "evalue": "'FileManager' object does not support the context manager protocol (missed __exit__ method)",
     "output_type": "error",
     "traceback": [
      "\u001b[1;31m---------------------------------------------------------------------------\u001b[0m",
      "\u001b[1;31mTypeError\u001b[0m                                 Traceback (most recent call last)",
      "Cell \u001b[1;32mIn[18], line 14\u001b[0m\n\u001b[0;32m     11\u001b[0m         \u001b[38;5;28mself\u001b[39m\u001b[38;5;241m.\u001b[39mfile\u001b[38;5;241m.\u001b[39mclose()\n\u001b[0;32m     13\u001b[0m \u001b[38;5;66;03m#loading a file\u001b[39;00m\n\u001b[1;32m---> 14\u001b[0m \u001b[38;5;28;43;01mwith\u001b[39;49;00m\u001b[43m \u001b[49m\u001b[43mFileManager\u001b[49m\u001b[43m(\u001b[49m\u001b[38;5;124;43m'\u001b[39;49m\u001b[38;5;124;43mtest.txt1\u001b[39;49m\u001b[38;5;124;43m'\u001b[39;49m\u001b[43m,\u001b[49m\u001b[38;5;124;43m'\u001b[39;49m\u001b[38;5;124;43mw\u001b[39;49m\u001b[38;5;124;43m'\u001b[39;49m\u001b[43m)\u001b[49m\u001b[43m \u001b[49m\u001b[38;5;28;43;01mas\u001b[39;49;00m\u001b[43m \u001b[49m\u001b[43mf\u001b[49m\u001b[43m:\u001b[49m\n\u001b[0;32m     15\u001b[0m \u001b[43m    \u001b[49m\u001b[43mf\u001b[49m\u001b[38;5;241;43m.\u001b[39;49m\u001b[43mwrite\u001b[49m\u001b[43m(\u001b[49m\u001b[38;5;124;43m'\u001b[39;49m\u001b[38;5;124;43mtest\u001b[39;49m\u001b[38;5;124;43m'\u001b[39;49m\u001b[43m)\u001b[49m\n\u001b[0;32m     16\u001b[0m \u001b[38;5;28mprint\u001b[39m(f\u001b[38;5;241m.\u001b[39mclosed)\n",
      "\u001b[1;31mTypeError\u001b[0m: 'FileManager' object does not support the context manager protocol (missed __exit__ method)"
     ]
    }
   ],
   "source": [
    "#file management using context manager\n",
    "class FileManager:\n",
    "    def __init__(self,filename,mode):\n",
    "        self.filename=filename\n",
    "        self.mode=mode\n",
    "        self.file=None\n",
    "    def __enter__(self):\n",
    "        self.file=open(self.filename,self.mode)\n",
    "        return self.file\n",
    "    def __exist__(self,exc_type,exc_value,exc_treaceback):\n",
    "        self.file.close()\n",
    "        \n",
    "#loading a file\n",
    "with FileManager('test.txt1','w') as f:\n",
    "    f.write('test')\n",
    "print(f.closed)\n",
    "    "
   ]
  },
  {
   "cell_type": "code",
   "execution_count": 16,
   "metadata": {},
   "outputs": [
    {
     "name": "stdout",
     "output_type": "stream",
     "text": [
      "True\n"
     ]
    }
   ],
   "source": [
    "class FileManager:\n",
    "    def __init__(self, filename, mode):\n",
    "        self.filename = filename\n",
    "        self.mode = mode\n",
    "        self.file = None\n",
    "        \n",
    "    def __enter__(self):\n",
    "        self.file = open(self.filename, self.mode)\n",
    "        return self.file\n",
    "    \n",
    "    def __exit__(self, exc_type, exc_value, exc_traceback):\n",
    "        self.file.close()\n",
    "\n",
    "# Loading a file\n",
    "with FileManager('test.txt', 'w') as f:\n",
    "    f.write('test')\n",
    "\n",
    "# Checking if the file is closed\n",
    "print(f.closed)\n"
   ]
  },
  {
   "cell_type": "markdown",
   "metadata": {},
   "source": [
    "- A context manager in python is way to allocate and release resources precisely when you need to.The most common use case for a context manager is file operations.but it can be used for many other tasks like managing database connection,threading lock etc.\n",
    "\n",
    "- Context manager are implemented using two methods __enter__() and __exi__().The with statements in python is used to wrap the execution of a block of code."
   ]
  },
  {
   "cell_type": "code",
   "execution_count": null,
   "metadata": {},
   "outputs": [],
   "source": [
    "#implementation of a context manager\n",
    "\n",
    "class FileManager():\n",
    "    def __init__(self,filename,mode):\n",
    "        self.filename=filename\n",
    "        self.mode=mode\n",
    "        \n",
    "    def __enter__(self):\n",
    "        self.file=open(self.filename,self.mode)\n",
    "        return self.file\n",
    "    \n",
    "    def __exist__(self,exc_type,exc_val,exc_tb):\n",
    "        self.file.close()\n",
    "        if exc_type:\n",
    "            print(f\"an excepted occured:{exc_val}\")\n",
    "        return True\n",
    "        \n",
    "with FileManager('test.txt2','w')as f:\n",
    "    f.write('hello,world')"
   ]
  }
 ],
 "metadata": {
  "kernelspec": {
   "display_name": "Python 3",
   "language": "python",
   "name": "python3"
  },
  "language_info": {
   "codemirror_mode": {
    "name": "ipython",
    "version": 3
   },
   "file_extension": ".py",
   "mimetype": "text/x-python",
   "name": "python",
   "nbconvert_exporter": "python",
   "pygments_lexer": "ipython3",
   "version": "3.12.0"
  }
 },
 "nbformat": 4,
 "nbformat_minor": 2
}
