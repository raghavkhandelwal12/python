{
 "cells": [
  {
   "cell_type": "markdown",
   "metadata": {},
   "source": [
    "# Introduction to Statistical Analysis With SciPy\n",
    "Statistical analysis is a crucial part of data science,research,business intelligence and many other field.It allows us to understand and iterpret data by using various mathematcial techniques,providing insights that lead to informed decision making.SciPy a python library built on NumPy,enhances Python statistical capabilities,offering a wide range of tools for scientific and technical computing,particularly in the area of statistics."
   ]
  },
  {
   "cell_type": "markdown",
   "metadata": {},
   "source": [
    "## What is SciPy?\n",
    "SciPy is an open-source Python library used for scientific computing and techincal computing.It builds upon NumPy by adding advanced mathematical function that are useful in fields such as physics,engineering,machine learning and more specifically  statistics.\n",
    "\n",
    "- Statistical test(like t-tests and ANOVA)\n",
    "- Probability distributions(normal,binomial,chi-square etc.)\n",
    "- Hypothesis testing\n",
    "- Regression models\n",
    "- Correlation analysis\n",
    "- Other advance statistical techniques\n"
   ]
  },
  {
   "cell_type": "markdown",
   "metadata": {},
   "source": [
    "### Why is Statistical Analysis Important?\n",
    "Statistical analysis involves collecting,analyzing,and interpreting data to uncover patterns,trends or relationships that inform decision-making.Whether evaluating business strategies,assessing product performance,conducting medical research or predicting market trends,statistics helps quantify uncertainty and provides the foundation for drawing conclusions from data.\n",
    "\n",
    "\n",
    "- `Here are some reasons why learning statistical analysis is important:`\n",
    "\n",
    "1. `Data-Driven Decision Making`: Statistical techniques help to make data-driven decisions.For instance,by analyzing customer behaviour data,businesses can improve customer satisfaction,predict trends,and optimize their strategies.\n",
    "\n",
    "2. `Understanding Data Patterns`: Statistical analysis help to identify trends,correlations,and patterns in data that may not be immediately apparent.This can be crucial for improving products,optimize operations,and even predicting future events.\n",
    "\n",
    "3. `Validating Hypotheses`: In both research and industry,statistical tests are essential for hypothesis validation.For instance in A/B testing,we can statistically determine if one version of a product or campaign performs better than another,using technique like the t-test or chi-square test.\n",
    "\n",
    "4. `Risk Assessment and Forecasting`: Statistical tools allow business and researchers to assess risk anf forecast future outcomes based on historical data.For example sales data can be used to predict future revenues.\n",
    "\n",
    "5. `Data Quality Control`: Statistical method help ensure that the data is reliable,accurate and valid.Techniques such as regression analysis,hypothesis testing,and goodness of fit test are used to assess and validate the integrity of the data."
   ]
  },
  {
   "cell_type": "markdown",
   "metadata": {},
   "source": [
    "## How SciPy Extends Statistical Analysis\n",
    "While Python core libraries like NumPy are excellent for numerical computing,SciPy goes a step further by offering specialized statistical functions.These functions cover a broad spectrum of tasks such as:\n",
    "\n",
    "1. `Statistical Tests`:\n",
    "    - `t-tests`:Compare means between groups to determine if there are significant differences.\n",
    "    - `ANOVA` : Analyze variance between multiple groups.\n",
    "    - `Chi-Square-Tests`: Examine relationship between categorical variables.\n",
    "    - `Non-Paremetric Tests`: Used when data doesn't meet assumptions of normality,such as the Mann-Whitney U test and Kruskal-Wallis test.\n",
    "\n",
    "2. `Probability Distributions`: SciPy provides tools for working probability distributions like normal,binomial,chi-square etc.we can use these distributions to model data and calculate probablities for statistical inference.\n",
    "\n",
    "3. `Hypothesis Testing`: SciPy offers functions to test hypotheses using tools such as `ttest_ind(for t-tests),f_oneway\n",
    "(for ANOVA),and chi2_contingency(for chi-square tests)`.These are fundamental for determine statistical significance in real-world applications like A/B testing,product comparison and medical trials.\n",
    "\n",
    "4. `Correlation and Regression`: Scipy also supports analysis to determine the strength of relationships between variables.It provides tools for both parametric(perason) and non-parametric(spearman) correlation allowing analyst to assess the association between variables.Regression analysis,both simple and multiple is supported for modeling and predicting trends.\n",
    "\n",
    "5. `Goodness of Fit and Normality Testing`: These tests allow to determine if your data fits a certain distribution(e.g. normal distribution). This is important for making valid inferences in many statistical tests that assume normality.\n"
   ]
  },
  {
   "cell_type": "markdown",
   "metadata": {},
   "source": [
    "# How to Use SciPy for Statistical Analysis \n",
    "The libraries strength lies in its simplicity.Once you have imported `scipy.stats` module we can access a wide variety of statistical functions for example."
   ]
  },
  {
   "cell_type": "code",
   "execution_count": 5,
   "metadata": {},
   "outputs": [
    {
     "name": "stdout",
     "output_type": "stream",
     "text": [
      "T-statistic: 0.5252257314388907, P-value: 0.6136675286424303\n"
     ]
    }
   ],
   "source": [
    "from scipy import stats\n",
    "\n",
    "# Perform an independent t-test\n",
    "group1 = [10, 12, 14, 15, 16]\n",
    "group2 = [10, 11, 12, 14, 16]\n",
    "t_stat, p_val = stats.ttest_ind(group1, group2)\n",
    "\n",
    "# Print the results\n",
    "print(f\"T-statistic: {t_stat}, P-value: {p_val}\")\n"
   ]
  },
  {
   "cell_type": "markdown",
   "metadata": {},
   "source": [
    "## Key Advantages of Using SciPy for Statistical Analysis\n",
    "\n",
    "1. `Comprehensive Functionality`: SciPy includes an extensive range of statistical function,allowing for both basic and advance analyses,from simple t-tests to comple ANOVA or chi-square tests.\n",
    "\n",
    "2. `Efficiency and Performance`: Built on Numpy,SciPy is optimized for high performance scientific computations.It efficiently handle large datasets,making it suitable for real time analysis in industries like financial,maketing and resarch.\n",
    "\n",
    "3. `Open Source and Extensible`: As an open-source library SciPy is contantly updated and improved by the python community.We also extend it with other libraries like `statsmodels` for more advanced statistical modeling.\n",
    "\n",
    "4. `Real-World Applications`: SciPy is commonly used in data science,research,machine learning and many industries.For example in e-commerce,it can be used to perform A/B testing to compare different versions of a website while a healthcare,it is used to analyze medical trial data."
   ]
  },
  {
   "cell_type": "markdown",
   "metadata": {},
   "source": [
    "## Why Learn Statistical Analysis?\n",
    "Statistical analysis is a cornerstone of data science and decision makin in numerous fields,including business,healthcare,social sicences,engineering and more.Understanding statistical analysis equips with the skills to extract meaningful insights from data,make informed decisions,and validate hypotheses.Here's detailed look at why learning statistical analysis is crucial.\n",
    "\n",
    "1. `Data-Driven Decision Making`: in today data-rich environment,making decisions based on empirical rather than intution is vital.Statistical analysis is allow you to:\n",
    "  - `Evaluate Performance` :  By analyzing key performance indicator(KPIs),We can determine the effectiveness of strategies,campaigns,or interventions.For example A/B testing in marketing helps decide which version of a webpage performs better in terms of user engagement.\n",
    "  - `Optimize Resources`: Statistical method help allocate resources more effectively.For instance,statistical analysis can identify which product lines are underperforming should be improved or discontinued.\n",
    "\n",
    "2. `Understanding and Uncovering Data Patterns`: Statistical analysis helps indentify trends,patterns and relationship within data that might not be immediately obvious:\n",
    "\n",
    "  - `Trend Identification`: Analyzing historical data can reveal trends over time such as seasonality in sales or long term growth patterns.\n",
    "  - `Correlation Analysis` : Discover relationship between variable,such as correlation between advertising spend and sales revenue.\n",
    "\n",
    "3. `Hypothesis Testing and Validation` : Statistical tests are fundamental for testing hypotheses and validating theories.\n",
    "  - `Scientific Research`: In scientific experiments,statistical tests are used to determine whether observed effects are statistically significant or occurred by chance.\n",
    "  - `Business Experiment` : In business,hypothesis testing can validate the impact of a nwe product feature or marketing strategy on consumer behaviour.\n",
    "\n",
    "4. `Risk Assessment and Forecasting`: Predicting future events and assessing risks are essential for strategic planning.\n",
    "  - `Forecasting`: Use regression models to predict future sales,market trends,or financial performance based on historical data.\n",
    "  - `Risk Management` : Statistical analysis help quantify risks,such as financial risks in investment portfolios or operational risks in supply chain management.\n",
    "\n",
    "5. `Data Quality and Integrity`: Ensuring that data is accurate and reliable is crucial for making sound decisions.\n",
    "  - `Data validation`: Statistical methods help check data quality and identify anomalies or outliers that could indicate error or inconsistencies.\n",
    "  - `Model Evaluation` : Assess the performance of predictive models and ensure they generalize well to new,unseen data.\n",
    "\n",
    "6. `Communicating Results Effectively` : Statistical analysis help in presenting data insights clearly and effectively.\n",
    "  - `Data Visualization` : Statistical techniques are used to create charts,graphs,and tables that visually represent data,making it easier to understand and communicate findings.\n",
    "  - `Reporting` : Statistical summaries and tests provides a basis for reports and presentations,helping stakeholders understand the significance of the data.\n",
    "\n",
    "7. `Supporting Evidence-Based Decision Making` : It many field,especially in healthcare and social sciences evidence-based decision-making is crucial\n",
    "  - `Healthcare`: Statistical analysis is used to evaluate treatment effectiveness,study epidemiological trends and conduct clinical trials.\n",
    "  - `Social Sciences`: Researchers used statistical method to analyze survey data,study social behaviours,and test theories.\n",
    "\n",
    "8. `Enhancing Analytical Skills` : Learning statistical analysis develops critical thinking and problem-solving skills.\n",
    "  - `Analytical Thinking` : The process of analyzing data and iterpreting result strengthens logical reasoning and analytical skills.\n",
    "  - `Problem-Solving` : Statistical techniques are often used to tackle complex problems,such as optimizing supply chains or analyzing customer satisfaction."
   ]
  },
  {
   "cell_type": "markdown",
   "metadata": {},
   "source": [
    "# Applications of Statistical Analysis\n",
    "\n",
    "1. `Business`:\n",
    "  - `Market Research` : Analyzing consumer preferences,market trends and competitor strategies.\n",
    "  - `Financial Analysis` : Assessing investment opportunities,financial risks,and company performance.\n",
    "\n",
    "2. `Healthcare`:\n",
    "  - `Clinical Trials` : Evaluating the effectiveness of new treatment or drugs.\n",
    "  - `Epidemiology` : Studying disease patterns,risk factors,and public health interventions.\n",
    "\n",
    "3. `Education` : \n",
    "  - `Student Performance` :  Analyzing test scores,graduation rates,and education outcomes.\n",
    "  - `Educational Research` : conducting studies on teaching methods and learning processes.\n",
    "\n",
    "4. `Government`: \n",
    "  - `Policy Analysis`: Evaluating the impact of policies and programs on various populations\n",
    "  - `Census Data`: Analyzing demographic trends and social statistics.\n",
    "\n",
    "5. `Engineering`: \n",
    "  - `Quality Control` : Monitoring and improving manufacturing processes.\n",
    "  - `Reliability Engineering` : Assessing the performance and reliability of systems and components."
   ]
  },
  {
   "cell_type": "markdown",
   "metadata": {},
   "source": [
    "# Parametric Tests\n",
    "Parametric tests are statistical method used to infer properties of a population based on sample data,assuming that the data follows a certain distribution,usally normal.Here's a detailed step by step explanation for each type of parametric test,including sample code and explanations.\n",
    "\n",
    "1.`t-Test`: The t-test is used to compare means and determine if differeces between group are statistically significant.There are three main types of t-tests: Independent t-Test,Paired t-Test, and One-Sample t-Test.\n",
    "\n",
    "1.1 `Independent t-Test`(`ttest_ind`)\n",
    "\n",
    "`Purpose` :  To compare the means of two independent groups.\n",
    "\n",
    "`Steps`: \n",
    "\n",
    "1.`Collect Data`: Gather data from two independent groups.\n",
    "2. `Formulate Hypotheses`:\n",
    "  - `Null Hypothesis(HO)`:The means of the two groups are equal\n",
    "  - `Alternative Hypothesis(H1)`:The means of the two groups are not equal.\n",
    "3. `Perform the Test`: \n",
    "  - Calculate the t-statistic and p-value using `scipy.stats.ttest_ind`\n",
    "4. `Interpret Results`: \n",
    "  - Comapre the p-value to a significance level(e.g 0.05) of the p-value is less than the significance level reject the null hypthothesis."
   ]
  },
  {
   "cell_type": "code",
   "execution_count": 1,
   "metadata": {},
   "outputs": [
    {
     "name": "stdout",
     "output_type": "stream",
     "text": [
      "T-statistic:-5.457528321925172,P-value:0.0006032955621151555\n"
     ]
    }
   ],
   "source": [
    "from scipy import stats\n",
    "#sample data\n",
    "group1=[23,21,18,24,26]\n",
    "group2=[30,32,34,29,31]\n",
    "\n",
    "#perform independent t-test\n",
    "t_stat,p_val=stats.ttest_ind(group1,group2)\n",
    "print(f\"T-statistic:{t_stat},P-value:{p_val}\")"
   ]
  },
  {
   "cell_type": "markdown",
   "metadata": {},
   "source": [
    "# Paired t-Test(`ttest_rel`)\n",
    "`Purpose` : To compare means from the same group at different times or under different conditions.\n",
    "\n",
    "`Steps`:\n",
    "\n",
    "1. `Collect Data`: Gather paired samples(e.g pre-test and post-test scores)\n",
    "2. `Formulate Hypotheses`:\n",
    "  - `Null Hypothesis(HO)`: The mean difference between paired observations is zero.\n",
    "  - `Alternative Hypothesis`(H1): The mean difference is not zero.\n",
    "3. `Perform the Test`:\n",
    "  - Calculate the t-statistic and p-value using `scipy.stats.ttest_real.`\n",
    "4. `Interpret Results`: Compare the p-value to a significance level to determine if the means are significantly different."
   ]
  },
  {
   "cell_type": "code",
   "execution_count": 4,
   "metadata": {},
   "outputs": [
    {
     "name": "stdout",
     "output_type": "stream",
     "text": [
      "T-statistic:-11.000000000000002,P-value:0.000388171338494014\n"
     ]
    }
   ],
   "source": [
    "from scipy import stats\n",
    "#sample data\n",
    "pre_test=[88,92,85,91,87]\n",
    "post_test=[90,94,88,93,89]\n",
    "\n",
    "#perform paired t-test\n",
    "t_stat,p_val=stats.ttest_rel(pre_test,post_test)\n",
    "print(f\"T-statistic:{t_stat},P-value:{p_val}\")"
   ]
  },
  {
   "cell_type": "markdown",
   "metadata": {},
   "source": [
    "# One-Sample t-Test(`ttest_1samp`)\n",
    "`Purpose`: To compare the mean of a single sample to a known value or a population mean.\n",
    "\n",
    "`Steps`: \n",
    "\n",
    "1. `Collect Data:` Gather sample data.\n",
    "\n",
    "2. `Formulate Hypotheses`:\n",
    "  - `Null Hyptothesis(HO)`: The sample mean is equal to the known value.\n",
    "  - `Alternative Hypothesesis(H1)`:The sample mean is different from the known value.\n",
    "\n",
    "3. `Perform the Test`:Caculate the t-statistic and p-value using `scipy.stats.ttest_1samp`.\n",
    "\n",
    "4. `Interpret Results`: Compare the p-value to a significance level to determine if the sample mean differs significantly from the known value."
   ]
  },
  {
   "cell_type": "code",
   "execution_count": 5,
   "metadata": {},
   "outputs": [
    {
     "name": "stdout",
     "output_type": "stream",
     "text": [
      "T-statistic:-0.4965635331614161,P-value:0.6455470832456099\n"
     ]
    }
   ],
   "source": [
    "from scipy import stats\n",
    "#sample data\n",
    "sample_data=[85,90,88,92,87]\n",
    "population_mean=89\n",
    "#Perform one-sample t-test\n",
    "t_stat,p_val=stats.ttest_1samp(sample_data,population_mean)\n",
    "print(f\"T-statistic:{t_stat},P-value:{p_val}\")"
   ]
  },
  {
   "cell_type": "markdown",
   "metadata": {},
   "source": [
    "## Anova(Analysis of variance)\n",
    "ANOVA is used to compare the means of three or more groups to determine if there are any significant differences among them.\n",
    "\n",
    "### One-Way Anova(`f-oneway`)\n",
    "\n",
    "`Purpose`: To compare the means of three or more independent groups.\n",
    "\n",
    "`Steps`:\n",
    "\n",
    "1. `Collect Data`: Gather data from three or more groups.\n",
    "\n",
    "2. `Formulate Hyptheses`\"\n",
    "  - `Null Hypothesis(HO)`: All groups means are equal.\n",
    "  - `Alternative Hypothesis(H1)`: At least one group means is different.\n",
    "\n",
    "3. `Perform the Test`: Calcualte the F-statistic and p-value using `scipy-stats.f_oneway`.\n",
    "\n",
    "4. `Interpret Result`: Compare the p-value to a significance level to determine if there are significant differences among the group means."
   ]
  },
  {
   "cell_type": "code",
   "execution_count": 6,
   "metadata": {},
   "outputs": [
    {
     "name": "stdout",
     "output_type": "stream",
     "text": [
      "F-statistic:19.538461538461515,P-value:0.00016816635614339348\n"
     ]
    }
   ],
   "source": [
    "from scipy import stats\n",
    "#sample data\n",
    "diet1=[5,7,6,8,7]\n",
    "diet2=[9,10,11,12,10]\n",
    "diet3=[6,5,7,8,6]\n",
    "\n",
    "#Perform one-way Anova\n",
    "f_stat,p_val=stats.f_oneway(diet1,diet2,diet3)\n",
    "print(f\"F-statistic:{f_stat},P-value:{p_val}\")"
   ]
  },
  {
   "cell_type": "markdown",
   "metadata": {},
   "source": [
    "## Pearson Correalation coefficient(`pearsonr`)\n",
    "\n",
    "`Purpose`: To measure the strength and direction of the linear relationship between two continuous variables.\n",
    "\n",
    "`Steps`:\n",
    "\n",
    "1. `Collect Data`: Gather paired data for two variables.\n",
    "\n",
    "2. `Formulate Hypotheses`:\n",
    "  - `Null Hypothesis(HO)`: There is no linear relationship between the variables.\n",
    "  - `Alternative Hypothesis(H1)`: There is a significiant linear relationship between the variables\n",
    "\n",
    "3. `Perform the Test`: Calculate the pearson correaltion coefficient and p-value using. `scipy.stats.pearsonr`.\n",
    "\n",
    "4. `Interpret Result` : The correaltion coefficient value indicate the strength and direction of the relationsip.The p-value determine if the correlation is statistically significant."
   ]
  },
  {
   "cell_type": "code",
   "execution_count": 9,
   "metadata": {},
   "outputs": [
    {
     "name": "stdout",
     "output_type": "stream",
     "text": [
      "Pearson Correalation coefficient:1.0,P_value:0.0\n"
     ]
    }
   ],
   "source": [
    "from scipy import stats\n",
    "#sample data\n",
    "hours_studied=[1,2,3,4,5]\n",
    "exam_score=[55,60,65,70,75]\n",
    "\n",
    "#calcualte Pearson correaltion coefficient\n",
    "\n",
    "corr_coeff,p_val=stats.pearsonr(hours_studied,exam_score)\n",
    "print(f\"Pearson Correalation coefficient:{corr_coeff},P_value:{p_val}\")"
   ]
  },
  {
   "cell_type": "markdown",
   "metadata": {},
   "source": [
    "## Non-Parametric Tests\n",
    "Non-parametric tests are statistical methods used when the data doesn't meet the assumptions required for parametric tests,such as normality.They are useful for analyzing ordinal data or when the data does not follow a specific distribution.Here's a detailed step by step explanation for each non-parametric test including sample code and expanations.\n",
    "\n",
    "\n",
    "1. `Mann-Whitney U Test`(`mannwhit-neyu`)\n",
    "\n",
    "`Purpose` : To compare differences between two independent groups when the data is not normally distributed.\n",
    "\n",
    "`Steps`:\n",
    "\n",
    "1. `Collect Data`: Gather data from two independent groups\n",
    "\n",
    "2. `Formulated Hypotheses`: \n",
    "  - `Null Hypothesis(HO)`: The distributions of the two groups are equal.\n",
    "  - `Alternative Hypothesis(H1)`: The distributions of the two groups are different.\n",
    "\n",
    "3. `Perform the Test`: Calcualte the U-statistic and p-value using `scipy.stats.mannwhittneyu`.\n",
    "\n",
    "4. `Interpret Results`: Compare the p-value to significance level to determine if there is a significant difference between the two groups."
   ]
  },
  {
   "cell_type": "code",
   "execution_count": 10,
   "metadata": {},
   "outputs": [
    {
     "name": "stdout",
     "output_type": "stream",
     "text": [
      "U-statistic: 0.0, P-value: 0.007936507936507936\n"
     ]
    }
   ],
   "source": [
    "from scipy import stats\n",
    "#sample data\n",
    "group1=[23,21,18,24,26]\n",
    "group2=[30,32,34,29,31]\n",
    "\n",
    "#perform Mann-Whitney U test\n",
    "u_stat,p_val=stats.mannwhitneyu(group1,group2)\n",
    "print(f\"U-statistic: {u_stat}, P-value: {p_val}\")\n"
   ]
  },
  {
   "cell_type": "markdown",
   "metadata": {},
   "source": [
    "2. `Wilcoxon Signed-Rank Test`(`wilcoxon`)\n",
    "\n",
    "`Purpose`: To compare two related samples or matched pairs. It is used when the data is not normally distributed.\n",
    "\n",
    "`Steps`:\n",
    "\n",
    "1. `Collect Data`: Gather paired samples.\n",
    "\n",
    "2. `Formulate Hypotheses:`\n",
    "  - `Null Hypothesis (H0)`: The median difference between paired observations is zero.\n",
    "  - `Alternative Hypothesis (H1)`: The median difference is not zero.\n",
    "\n",
    "3. `Perform the Test:`Calculate the test statistic and p-value using `scipy.stats.wilcoxon.`\n",
    "\n",
    "4. `Interpret Results:`\n",
    "Compare the p-value to a significance level to determine if the median difference is significantly different from zero.\n",
    "\n",
    "\n",
    "\n"
   ]
  },
  {
   "cell_type": "code",
   "execution_count": 11,
   "metadata": {},
   "outputs": [
    {
     "name": "stdout",
     "output_type": "stream",
     "text": [
      "Wilcoxon statistic: 0.0, P-value: 0.0625\n"
     ]
    }
   ],
   "source": [
    "from scipy import stats\n",
    "#sample data\n",
    "pre_test=[88,92,85,91,87]\n",
    "post_test=[90,94,88,93,89]\n",
    "#perform wilcoxon signed-rank test\n",
    "w_stat,p_val=stats.wilcoxon(pre_test,post_test)\n",
    "print(f\"Wilcoxon statistic: {w_stat}, P-value: {p_val}\")"
   ]
  },
  {
   "cell_type": "markdown",
   "metadata": {},
   "source": [
    "3. `Kruskal-wallis Test`(`kruskal`):\n",
    "\n",
    "`Purpose` : To compare the medians of three or more independent groups.It is non-parametric alternative to one-way ANOVA.\n",
    "\n",
    "`Steps`:\n",
    "\n",
    "1. `Collect Data:` Gather data from three or more independent groups.\n",
    "\n",
    "2. `Formulate Hypotheses:`\n",
    "  - `Null Hypothesis (H0)`: All groups have the same median.\n",
    "  - `Alternative Hypothesis (H1)`: At least one group has a different median.\n",
    "\n",
    "3. `Perform the Test:`Calculate the H-statistic and p-value using `scipy.stats.kruskal.`\n",
    "\n",
    "4. `Interpret Results:`Compare the p-value to a significance level to determine if there are significant differences between the medians of the groups.\n",
    "\n"
   ]
  },
  {
   "cell_type": "code",
   "execution_count": 12,
   "metadata": {},
   "outputs": [
    {
     "name": "stdout",
     "output_type": "stream",
     "text": [
      "H-statistic: 9.608743169398917, P-value: 0.008193848536604539\n"
     ]
    }
   ],
   "source": [
    "from scipy import stats\n",
    "# Sample data\n",
    "group1 = [5, 7, 6, 8, 7]\n",
    "group2 = [9, 10, 11, 12, 10]\n",
    "group3 = [6, 5, 7, 8, 6]\n",
    "\n",
    "# Perform Kruskal-Wallis test\n",
    "h_stat, p_val = stats.kruskal(group1, group2, group3)\n",
    "\n",
    "print(f\"H-statistic: {h_stat}, P-value: {p_val}\")"
   ]
  },
  {
   "cell_type": "markdown",
   "metadata": {},
   "source": [
    "4.`Spearman Rank Correlation`(`spearmanr`):\n",
    "\n",
    "`Purpose`:To measure the strength and direction of the association between two rankied variables.\n",
    "\n",
    "`Steps`: \n",
    "\n",
    "1. `Collect Data`: Gather paired ranked data for two variables.\n",
    "\n",
    "2. `Formulated Hypotheses`:\n",
    "  - `Null Hypothesis(HO)`: There is no correaltion between the two variables.\n",
    "  - `Alternative Hypothesis(H1)`: There is a significant correalation between the variable.\n",
    "\n",
    "3. `Perform the Test`: Calcualte the Spearman rank correaltion coefficient and p-value using `scipy.stats.spearmanr`.\n",
    "\n",
    "4. `Interpret Results` : The correlation coefficient value indicates the strength and direction of the relationship.The p-value determines if the correlation is statistically significant."
   ]
  },
  {
   "cell_type": "code",
   "execution_count": 1,
   "metadata": {},
   "outputs": [
    {
     "name": "stdout",
     "output_type": "stream",
     "text": [
      "Spearman Correlation Coefficient-0.9999999999999999,P-value:1.4042654220543672e-24\n"
     ]
    }
   ],
   "source": [
    "from scipy import stats\n",
    "#sample data\n",
    "ranked_variable1=[1,2,3,4,5]\n",
    "ranked_variable2=[5,4,3,2,1]\n",
    "\n",
    "#calculate spearman rank correlation coefficient\n",
    "corr_coeff,p_val=stats.spearmanr(ranked_variable1,ranked_variable2)\n",
    "print(f\"Spearman Correlation Coefficient{corr_coeff},P-value:{p_val}\")"
   ]
  },
  {
   "cell_type": "markdown",
   "metadata": {},
   "source": [
    "5. `Chi-Square Test`(`chi2_contingency`):\n",
    "\n",
    "`Purpose`: To test the independence of two categorical variables in a contingency table.\n",
    "\n",
    "`Steps`: \n",
    "\n",
    "1. `Collect Data`: Create a contingency table for two catogrical variables.\n",
    "\n",
    "2. `Formulated Hypotheses`:\n",
    "  -`Null Hypothesis(HO)`: The two categorical variables are independent.\n",
    "  - `Alternative Hypothesis`(H1):The two categorical variables are not independent\n",
    "\n",
    "3. `Perform the Test`: Calculate the chi-square statistic and p-value using `scipy.stats.chi2_contingency.\n",
    "\n",
    "4. `Interpret Result`: Compare the p-value to a significance level to determine if there is significant association between the categorical variables."
   ]
  },
  {
   "cell_type": "code",
   "execution_count": 2,
   "metadata": {},
   "outputs": [
    {
     "name": "stdout",
     "output_type": "stream",
     "text": [
      "Chi-square statistic: 4.8770604395604416, P-value: 0.08728905294832463\n"
     ]
    }
   ],
   "source": [
    "from scipy import stats\n",
    "#sample data:contingency table\n",
    "contingency_table=[[20,15,30],[25,25,20]]\n",
    "\n",
    "#perform the chi-square test\n",
    "chi2_stat,p_val, _, _ = stats.chi2_contingency(contingency_table)\n",
    "\n",
    "print(f\"Chi-square statistic: {chi2_stat}, P-value: {p_val}\")"
   ]
  },
  {
   "cell_type": "markdown",
   "metadata": {},
   "source": [
    "## Goodness of Fit Tests\n",
    "\n",
    "Goodness of fit tests are statistical tests used to determine how well a statistical model fits a set of observations.They assess whether a sample data matches a population with a specific distribution or whether observed data fits an expected distribution.\n",
    "\n",
    "1. `Chi-Square Goodness of Fit Test`: \n",
    "\n",
    "`Purpose`: To determine if a sample data matches an expected distribution.It tests if the observed frequencies of a categorical variable from the expected frequencies under a certain hypothesis.\n",
    "\n",
    "`Steps`: \n",
    "\n",
    "1. `Collect Data`:  Gather observed categorical data and specify the expected frequencies based on a theortical distribution.\n",
    "\n",
    "2. `Formulate Hypotheses`:\n",
    "  - `Null Hypothesis(HO)`: The observed frequencies mathch the expected frequencies.\n",
    "  - `Alternative Hypothesis(H1)`: The observed frequencies do not match the expected frequencies.\n",
    "\n",
    "3. `Perform the Test`: Calculate the chi-square statistic and p-value using `scipy.stats.chi2_contingency`.\n",
    "\n",
    "4. `Interpret Results`: Compare the p-value to a significance level(e.g. 0.05).If the p-vallue is less than the significance level reject the null hypothesis."
   ]
  },
  {
   "cell_type": "code",
   "execution_count": 3,
   "metadata": {},
   "outputs": [
    {
     "name": "stdout",
     "output_type": "stream",
     "text": [
      "Chi-square statistic: 5.0, P-value: 0.0820849986238988\n"
     ]
    }
   ],
   "source": [
    "from scipy import stats\n",
    "\n",
    "# Observed frequencies\n",
    "observed = [50, 30, 20]\n",
    "\n",
    "# Expected frequencies (e.g., equal distribution)\n",
    "expected = [40, 40, 20]\n",
    "\n",
    "# Perform Chi-Square Goodness of Fit test\n",
    "chi2_stat, p_val = stats.chisquare(f_obs=observed, f_exp=expected)\n",
    "\n",
    "print(f\"Chi-square statistic: {chi2_stat}, P-value: {p_val}\")"
   ]
  },
  {
   "cell_type": "markdown",
   "metadata": {},
   "source": [
    "2. `Kolmogorov-Smirnov Test`(`kstest`):\n",
    "\n",
    "`Purpose`: To compare the empirical distribution of a sample without a theoretical distribution(e.g. normal,exponential). It assesses whether a sample follows a specific distribution.\n",
    "\n",
    "`Steps`: \n",
    "\n",
    "1. `Collect Data`: Gather sample data and specify the thoretical distribution for comparison.\n",
    "\n",
    "2. `Formulate Hypotheses` :\n",
    "  - `Null Hypothesis(HO)`: The sample follows the specified theoritical distribution.\n",
    "  - `Alternative Hypothesis(H1)`: The sample does not follow the theoretical distribution.\n",
    "\n",
    "3. `Perform the Test` : Calculate the kolmogorov-Smirnov statistic and p-value using `scipy.stats.kstest`\n",
    "\n",
    "4. `Interpret Results` : Compare the p-value to  significance level to determine if there is a significant difference between the sample and the theoretical distribution."
   ]
  },
  {
   "cell_type": "code",
   "execution_count": 4,
   "metadata": {},
   "outputs": [
    {
     "name": "stdout",
     "output_type": "stream",
     "text": [
      "KS-statistic: 0.9712834401839981, P-value: 3.9056385724627266e-08\n"
     ]
    }
   ],
   "source": [
    "from scipy import stats\n",
    "\n",
    "# Sample data\n",
    "data = [2.3, 1.9, 2.1, 2.5, 2.7]\n",
    "\n",
    "# Perform Kolmogorov-Smirnov test for normal distribution\n",
    "ks_stat, p_val = stats.kstest(data, 'norm')\n",
    "\n",
    "print(f\"KS-statistic: {ks_stat}, P-value: {p_val}\")"
   ]
  },
  {
   "cell_type": "markdown",
   "metadata": {},
   "source": [
    "# Regression Analysis\n",
    "Regression analysis is a statistical techinque used to understand the relationship between a dependent variable and one or more independent variables. It is commonly used to predict outcomes and assess relationships.\n",
    "\n",
    "Here’s a detailed explanation of two key types of regression analysis: Simple Linear Regression and Multiple Linear Regression, including step-by-step explanations and example code.\n",
    "\n"
   ]
  },
  {
   "cell_type": "markdown",
   "metadata": {},
   "source": [
    "1. `Simple Linear Regression` : \n",
    "\n",
    "`Purpose` :  To model the relationship between a single independent variable(predictor) and a dependent variable(response) using a straight line.It helps to understand how changes in the independent variable affect the dependent variable.\n",
    "\n",
    "`Steps` : \n",
    "\n",
    "1. `Collect Data` : Gather data for the dependent variable(Y) and the independent variable(X).\n",
    "\n",
    "2. `Formulate Hypotheses`: \n",
    "  - `Null Hypothesis(HO)`: The slope of regression line is zero(no affect of X and Y).\n",
    "  - `Alternative Hypothesis(H1)`: The slope of the regression line is not zero(effect of X on Y).\n",
    "\n",
    "3. `Fit the Model`: Use `scipy.stats.linergress` to perform linear regression.\n",
    "\n",
    "4. `Interpret Results`: Analyze the slope,intercept,R-squared value,and p-value to determine the strength and significance of the relationship."
   ]
  },
  {
   "cell_type": "code",
   "execution_count": 7,
   "metadata": {},
   "outputs": [
    {
     "name": "stdout",
     "output_type": "stream",
     "text": [
      "Slope: 0.6000000000000001, Intercept: 2.1999999999999997\n",
      "R-squared: 0.6000000000000002, P-value: 0.12402706265755441\n"
     ]
    },
    {
     "data": {
      "image/png": "[encoded data removed]",
      "text/plain": [
       "<Figure size 640x480 with 1 Axes>"
      ]
     },
     "metadata": {},
     "output_type": "display_data"
    }
   ],
   "source": [
    "import numpy as np\n",
    "import scipy.stats as stats\n",
    "import matplotlib.pyplot as plt\n",
    "\n",
    "#sample data\n",
    "X=np.array([1,2,3,4,5])\n",
    "Y=np.array([2,4,5,4,5])\n",
    "\n",
    "#perform simple linear regression\n",
    "\n",
    "slope,intercept,r_value,p_value,std_err=stats.linregress(X,Y)\n",
    "print(f\"Slope: {slope}, Intercept: {intercept}\")\n",
    "print(f\"R-squared: {r_value**2}, P-value: {p_value}\")\n",
    "\n",
    "# Plotting\n",
    "plt.scatter(X, Y, color='blue', label='Data points')\n",
    "plt.plot(X, slope * X + intercept, color='red', label='Fitted line')\n",
    "plt.xlabel('X')\n",
    "plt.ylabel('Y')\n",
    "plt.title('Simple Linear Regression')\n",
    "plt.legend()\n",
    "plt.show()\n",
    "\n",
    "\n"
   ]
  },
  {
   "cell_type": "markdown",
   "metadata": {},
   "source": [
    "2. `Multiple Linear Regression`\n",
    "\n",
    "`Purpose`:  To model the relationship between two or more independent variables and a dependent variable. It helps to understand how multiple predictors collectively affect the dependent variable.\n",
    "\n",
    "`Steps`: \n",
    "\n",
    "1. `Collect Data`: Gather data for the dependent variable(Y) and\n",
    "multiple independent variable(X1,X2,--Xn).\n",
    "\n",
    "2. `Formulate Hypotheses`:\n",
    "  - `Null Hypothesis (H0)`: The coefficients of the independent variables are zero (no effect on Y).\n",
    "  - `Alternative Hypothesis (H1)`: At least one coefficient is not zero (effect on Y).\n",
    "\n",
    "3. `Fit the Model` :Use `statsmodels or sklearn` to perform multiple linear regression. \n",
    "\n",
    "4. `Interpret Results` : Analyze the coefficients, R-squared value, p-values, and confidence intervals to understand the relationships and significance of each predicto"
   ]
  },
  {
   "cell_type": "code",
   "execution_count": 8,
   "metadata": {},
   "outputs": [
    {
     "name": "stdout",
     "output_type": "stream",
     "text": [
      "                            OLS Regression Results                            \n",
      "==============================================================================\n",
      "Dep. Variable:                      Y   R-squared:                       0.600\n",
      "Model:                            OLS   Adj. R-squared:                  0.467\n",
      "Method:                 Least Squares   F-statistic:                     4.500\n",
      "Date:                Fri, 20 Sep 2024   Prob (F-statistic):              0.124\n",
      "Time:                        21:11:23   Log-Likelihood:                -5.2598\n",
      "No. Observations:                   5   AIC:                             14.52\n",
      "Df Residuals:                       3   BIC:                             13.74\n",
      "Df Model:                           1                                         \n",
      "Covariance Type:            nonrobust                                         \n",
      "==============================================================================\n",
      "                 coef    std err          t      P>|t|      [0.025      0.975]\n",
      "------------------------------------------------------------------------------\n",
      "const          0.2105      0.021     10.000      0.002       0.144       0.278\n",
      "X1             0.9316      0.155      6.015      0.009       0.439       1.424\n",
      "X2             0.3316      0.155      2.141      0.122      -0.161       0.824\n",
      "==============================================================================\n",
      "Omnibus:                          nan   Durbin-Watson:                   2.017\n",
      "Prob(Omnibus):                    nan   Jarque-Bera (JB):                0.570\n",
      "Skew:                           0.289   Prob(JB):                        0.752\n",
      "Kurtosis:                       1.450   Cond. No.                     2.39e+16\n",
      "==============================================================================\n",
      "\n",
      "Notes:\n",
      "[1] Standard Errors assume that the covariance matrix of the errors is correctly specified.\n",
      "[2] The smallest eigenvalue is 1.66e-31. This might indicate that there are\n",
      "strong multicollinearity problems or that the design matrix is singular.\n"
     ]
    },
    {
     "name": "stderr",
     "output_type": "stream",
     "text": [
      "c:\\Users\\pc\\AppData\\Local\\Programs\\Python\\Python312\\Lib\\site-packages\\statsmodels\\stats\\stattools.py:74: ValueWarning: omni_normtest is not valid with less than 8 observations; 5 samples were given.\n",
      "  warn(\"omni_normtest is not valid with less than 8 observations; %i \"\n"
     ]
    }
   ],
   "source": [
    "import statsmodels.api as sm\n",
    "import pandas as pd\n",
    "\n",
    "# Sample data\n",
    "data = pd.DataFrame({\n",
    "    'X1': [1, 2, 3, 4, 5],\n",
    "    'X2': [5, 4, 3, 2, 1],\n",
    "    'Y': [2, 4, 5, 4, 5]\n",
    "})\n",
    "\n",
    "# Define the independent and dependent variables\n",
    "X = data[['X1', 'X2']]\n",
    "y = data['Y']\n",
    "\n",
    "# Add a constant to the model (intercept)\n",
    "X = sm.add_constant(X)\n",
    "\n",
    "# Fit the Multiple Linear Regression model\n",
    "model = sm.OLS(y, X).fit()\n",
    "\n",
    "# Print the summary\n",
    "print(model.summary())"
   ]
  },
  {
   "cell_type": "code",
   "execution_count": null,
   "metadata": {},
   "outputs": [],
   "source": []
  }
 ],
 "metadata": {
  "kernelspec": {
   "display_name": "Python 3",
   "language": "python",
   "name": "python3"
  },
  "language_info": {
   "codemirror_mode": {
    "name": "ipython",
    "version": 3
   },
   "file_extension": ".py",
   "mimetype": "text/x-python",
   "name": "python",
   "nbconvert_exporter": "python",
   "pygments_lexer": "ipython3",
   "version": "3.12.0"
  }
 },
 "nbformat": 4,
 "nbformat_minor": 2
}
