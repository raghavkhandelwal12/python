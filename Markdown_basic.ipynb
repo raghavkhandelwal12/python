{
 "cells": [
  {
   "cell_type": "markdown",
   "id": "584c2dd8",
   "metadata": {},
   "source": [
    "# Heading level1\n",
    "i really like using markdown.to add the new line we space the one blank line \n",
    "\n",
    "i think i'll use it to format all of my document from now on"
   ]
  },
  {
   "cell_type": "markdown",
   "id": "b1a3efe5",
   "metadata": {},
   "source": [
    "<h1>Heading level 1</h1>"
   ]
  },
  {
   "cell_type": "markdown",
   "id": "1e047e57",
   "metadata": {},
   "source": [
    "# heading"
   ]
  },
  {
   "cell_type": "markdown",
   "id": "f3f9addf",
   "metadata": {},
   "source": [
    "## to create the heading level 2"
   ]
  },
  {
   "cell_type": "markdown",
   "id": "8c543c0b",
   "metadata": {},
   "source": []
  },
  {
   "cell_type": "markdown",
   "id": "bc56c865",
   "metadata": {},
   "source": [
    "### createt he heading level 3"
   ]
  },
  {
   "cell_type": "markdown",
   "id": "29bc570a",
   "metadata": {},
   "source": [
    "#### create the heading level 4"
   ]
  },
  {
   "cell_type": "markdown",
   "id": "8ae9db4e",
   "metadata": {},
   "source": [
    "##### create th heading level 5"
   ]
  },
  {
   "cell_type": "markdown",
   "id": "c52247de",
   "metadata": {},
   "source": [
    "###### create the heading level 6"
   ]
  },
  {
   "cell_type": "markdown",
   "id": "2d2b931b",
   "metadata": {},
   "source": [
    " alternate syntax this is for the heading 1\n",
    " =================================\n",
    " \n",
    " alternatively on the line below the text add any number of == character for heading level 1\n",
    " \n",
    " \n",
    " \n",
    " "
   ]
  },
  {
   "cell_type": "markdown",
   "id": "f03df300",
   "metadata": {},
   "source": [
    "alternate syntax for the heading 2\n",
    "----------------------------------\n",
    "alternatively ,on the line below the text add any number of  -----character for heading level 2"
   ]
  },
  {
   "cell_type": "markdown",
   "id": "1d273764",
   "metadata": {},
   "source": [
    "# heading best practices\n",
    "markdown application don't agree on how to handle missing space between sign(#) and the heading name.For compatiablility always put a space between the numbers signs and the heading name\n"
   ]
  },
  {
   "cell_type": "markdown",
   "id": "bfd71e42",
   "metadata": {},
   "source": [
    "# here's a heading\n",
    "provide the space when we add the heading"
   ]
  },
  {
   "cell_type": "code",
   "execution_count": 32,
   "id": "d7ecedc9",
   "metadata": {},
   "outputs": [],
   "source": [
    "# Don't allow\n",
    "#in markdown not allow the without space for the heading"
   ]
  },
  {
   "cell_type": "markdown",
   "id": "71e4d543",
   "metadata": {},
   "source": [
    "# we should also put blank lines before and after a heading for compatiability"
   ]
  },
  {
   "cell_type": "markdown",
   "id": "79695694",
   "metadata": {},
   "source": [
    "\n",
    "Try to put a blank line before...\n",
    "\n",
    "# heading\n",
    "\n",
    "...and after a heading"
   ]
  },
  {
   "cell_type": "markdown",
   "id": "e8c9f616",
   "metadata": {},
   "source": [
    "try to put blank line before\n",
    "\n",
    "# heading\n",
    "\n",
    "after a heading"
   ]
  },
  {
   "cell_type": "markdown",
   "id": "c97fcf6c",
   "metadata": {},
   "source": [
    "# Paragraphs\n",
    "to create paragraphs,use a blank line  to separate one or more lines of text"
   ]
  },
  {
   "cell_type": "markdown",
   "id": "0faf2c47",
   "metadata": {},
   "source": [
    "\n",
    "\n",
    "i really like using markdown\n",
    "\n",
    "i think i'll use it to format all of my document from now on"
   ]
  },
  {
   "cell_type": "markdown",
   "id": "ab21d22a",
   "metadata": {},
   "source": [
    "# Html using \n",
    "<p>I really like using markdown.</p>\n",
    "\n",
    "<p>I think I'll use it to format all of documents from now on.</p>"
   ]
  },
  {
   "cell_type": "markdown",
   "id": "acd8743b",
   "metadata": {},
   "source": [
    "# paragraph best practice\n",
    "unless the paragraph in a list dont't indent paragraph withs spaces or tabs"
   ]
  },
  {
   "cell_type": "markdown",
   "id": "afdd9908",
   "metadata": {},
   "source": [
    "# we can do this\n",
    "Don't put tabs or spaces in front  of you paragaph\n",
    "\n",
    "keep lines left-aligned like this\n"
   ]
  },
  {
   "cell_type": "markdown",
   "id": "8d438867",
   "metadata": {},
   "source": [
    "# we Don't do this\n",
    "    this can result in unexpected formatting problem\n",
    "    \n",
    "    don't add tabs or spaces in front end of the paragraphs"
   ]
  },
  {
   "cell_type": "markdown",
   "id": "84b02432",
   "metadata": {},
   "source": [
    "# Line breaks\n",
    "to create a line break or new line(<br>),end a line with two or more spaces,and then type return"
   ]
  },
  {
   "cell_type": "markdown",
   "id": "99976ebd",
   "metadata": {},
   "source": [
    "# html using\n",
    "\n",
    "<p>this is the first line.<br>and this is the second line.</p>"
   ]
  },
  {
   "cell_type": "markdown",
   "id": "0ed36466",
   "metadata": {},
   "source": [
    "# line break best practice\n"
   ]
  },
  {
   "cell_type": "markdown",
   "id": "94c871c5",
   "metadata": {},
   "source": [
    "# We can do this\n",
    "first line with two spaces after.\n",
    "and the next line\n",
    "\n",
    "first line with the html tage after.<br>\n",
    "and the next line"
   ]
  },
  {
   "cell_type": "markdown",
   "id": "58c47761",
   "metadata": {},
   "source": [
    "# we don't do this\n",
    "first line with a backslash after. \\\n",
    "this is nice for the human.\\\n",
    "And the next line\n",
    "\n",
    "first line with nothing after.\n",
    "and the next line"
   ]
  },
  {
   "cell_type": "markdown",
   "id": "fcac2f9f",
   "metadata": {},
   "source": [
    "# Emphasis \n",
    "you can add emphasis  by making text or italic"
   ]
  },
  {
   "cell_type": "markdown",
   "id": "017d3da1",
   "metadata": {},
   "source": [
    "# bold\n",
    "to bold text,add two asterisks or underscores before and after a word and a phrase.\\\n",
    "to bold the middle of the word for emphasis,add two asterisk without spaces around the letters"
   ]
  },
  {
   "cell_type": "markdown",
   "id": "cefd8f65",
   "metadata": {},
   "source": [
    "i just love **bold text**"
   ]
  },
  {
   "cell_type": "markdown",
   "id": "6628ff40",
   "metadata": {},
   "source": [
    "i just love __bold text__"
   ]
  },
  {
   "cell_type": "markdown",
   "id": "d19cf9dc",
   "metadata": {},
   "source": [
    "Love **is** bold"
   ]
  },
  {
   "cell_type": "markdown",
   "id": "e899e2fd",
   "metadata": {},
   "source": [
    "# Html using bold\n"
   ]
  },
  {
   "cell_type": "markdown",
   "id": "228b00fc",
   "metadata": {},
   "source": [
    "i just love <strong> and the text </strong>\n",
    "\n",
    "i just love <strong>bold text </strong>"
   ]
  },
  {
   "cell_type": "markdown",
   "id": "40dd620f",
   "metadata": {},
   "source": [
    "# Bold best practice\n",
    "love**is**bold\n",
    "\n"
   ]
  },
  {
   "cell_type": "markdown",
   "id": "9148faaa",
   "metadata": {},
   "source": [
    "# we dont do this\n",
    "love__is__bold"
   ]
  },
  {
   "cell_type": "markdown",
   "id": "56517d8f",
   "metadata": {},
   "source": [
    "# italic\n",
    "to itaclize text,add one aterisk or underscore before and after a word or phrase.To italicize the middle of a word for emphasis ,add one astersik without spaces around letters\n"
   ]
  },
  {
   "cell_type": "markdown",
   "id": "5c411d24",
   "metadata": {},
   "source": [
    "# to italic this we use the following in the markdown\n",
    "\n",
    "Italicized text is the *cat's meow*\n",
    "\n",
    "Italicized text is the _cat's meow_'\n",
    "\n",
    "A*cat*meow"
   ]
  },
  {
   "cell_type": "markdown",
   "id": "5689f58f",
   "metadata": {},
   "source": [
    "# USING THE HTML ITALIC\n",
    "\n",
    "Italicized text is the <em>cat's meow>/em>\n",
    "    \n",
    "a<em>cat</em>meow"
   ]
  },
  {
   "cell_type": "markdown",
   "id": "6b3fdb2a",
   "metadata": {},
   "source": [
    "# ITALIC BEST PRACTICE\n",
    "A*cat*meow\n",
    "\n"
   ]
  },
  {
   "cell_type": "markdown",
   "id": "cc8bc57a",
   "metadata": {},
   "source": [
    "# we cant do this\n",
    "a_cat_meow"
   ]
  },
  {
   "cell_type": "markdown",
   "id": "e1b8ed05",
   "metadata": {},
   "source": [
    "# Bold and italic\n",
    "to emphasize text with bold and italic at the same itme,add three asterisk or underscores before and after the word or phrase.To bold and itaclize the middle of word for emphasis,add three astersik without spaces around the letters\n"
   ]
  },
  {
   "cell_type": "markdown",
   "id": "dc06a029",
   "metadata": {},
   "source": [
    "# Markdown\n",
    "this test is ***really important***\n",
    "\n",
    "this text is ___really important___\n",
    "\n",
    "this text is __*really important*__\n",
    "\n",
    "this text is **_really important_**\n",
    "\n",
    "this is\n",
    "really***very***important text\n"
   ]
  },
  {
   "cell_type": "markdown",
   "id": "ec9297e8",
   "metadata": {},
   "source": [
    "# HTML USING THE BOLD AND ITALIC\n",
    "this text is <em><strong>really important </strong></em>"
   ]
  },
  {
   "cell_type": "markdown",
   "id": "e2f4b1c5",
   "metadata": {},
   "source": [
    "# bold and italic best practice\n",
    "this is  rally***very***important \n",
    "text"
   ]
  },
  {
   "cell_type": "markdown",
   "id": "3991db51",
   "metadata": {},
   "source": [
    "# we don't do this bold and italic\n",
    "\n",
    "this is\n",
    "really___very___important\n",
    "text"
   ]
  },
  {
   "cell_type": "markdown",
   "id": "5a61ebaa",
   "metadata": {},
   "source": [
    "# Blockquotes\n",
    "\n",
    "to create a blockquotes ,add a >in front of a paragraph\n",
    "\n"
   ]
  },
  {
   "cell_type": "markdown",
   "id": "c7f332d8",
   "metadata": {},
   "source": [
    "> Dorothy followed her through many of the beautiful rooms in his castle."
   ]
  },
  {
   "cell_type": "markdown",
   "id": "2be100f9",
   "metadata": {},
   "source": [
    "# Blockquotes with multiple paragraphs\n",
    "Bloackquotes can contain multiple paragraphs,add a > on the blank line between the paragraph"
   ]
  },
  {
   "cell_type": "markdown",
   "id": "dc5d93b3",
   "metadata": {},
   "source": [
    "> Doorthy followed her through many beautiful rooms in his castle\n",
    ">\n",
    "> the witch bade his clean the pots and kattles and sweep the floor and keep the fire fed with wood"
   ]
  },
  {
   "cell_type": "markdown",
   "id": "d58ba8bf",
   "metadata": {},
   "source": [
    "# Nested blockquotes\n",
    "\n",
    "Blockquotes can be nested add a >> in front of the paragraph you want to nest"
   ]
  },
  {
   "cell_type": "markdown",
   "id": "4536d841",
   "metadata": {},
   "source": [
    ">Dorothy followd her through many of the beautiful room in his castle\n",
    ">\n",
    ">>the witch bade her clean the pots and kattles and sweep the floor and keep the fite fed with food"
   ]
  },
  {
   "cell_type": "markdown",
   "id": "66d4558f",
   "metadata": {},
   "source": [
    "# Blockquotes with other elements\n",
    "Blockquotes can contain other markdown formatted element.Not all element can be used-you'll need to experiment to see which means work"
   ]
  },
  {
   "cell_type": "markdown",
   "id": "47f730ec",
   "metadata": {},
   "source": [
    "> ### the quartely result look great\n",
    ">\n",
    "> - Revenue was off the cart/\n",
    "> -profits were higher than ever.\n",
    ">\n",
    "> *Everything is going to according to **plan**\n",
    ">\n",
    "- hi my name is raghav\n",
    "\n"
   ]
  },
  {
   "cell_type": "markdown",
   "id": "62698aab",
   "metadata": {},
   "source": [
    "# Blockquotes best practices\n",
    "for compatiabiltiy ,put blank lines before and after blockquotes\n",
    "\n"
   ]
  },
  {
   "cell_type": "markdown",
   "id": "e10b7c5b",
   "metadata": {},
   "source": [
    "# do this\n",
    "try to put a blank line\n",
    "before...\n",
    "\n",
    "> this is a blockquotes\n",
    "\n",
    "...and after a blockquotes"
   ]
  },
  {
   "cell_type": "markdown",
   "id": "95796710",
   "metadata": {},
   "source": [
    "# don't do this\n",
    "without blank lines, this might not look right\n",
    ">this is a blockquotes\n",
    "don't do this\n",
    ">\n",
    "is very beautiful"
   ]
  },
  {
   "cell_type": "markdown",
   "id": "0ba53c68",
   "metadata": {},
   "source": [
    "# list\n",
    "we can oragnize items into ordered and unordered lists.\n"
   ]
  },
  {
   "cell_type": "markdown",
   "id": "aed8433a",
   "metadata": {},
   "source": [
    "# Markdown\n",
    "1. first item\n",
    "2. second item\n",
    "3. third item\n",
    "4. fouth item"
   ]
  },
  {
   "cell_type": "markdown",
   "id": "cc398d53",
   "metadata": {},
   "source": [
    "1. first item\n",
    "1. second item\n",
    "1. third item\n",
    "1. fourth item"
   ]
  },
  {
   "cell_type": "markdown",
   "id": "5f777a25",
   "metadata": {},
   "source": [
    "1. first item\n",
    "8. second item\n",
    "10. third item\n",
    "11. fourth item"
   ]
  },
  {
   "cell_type": "markdown",
   "id": "573fed85",
   "metadata": {},
   "source": [
    "1. first item\n",
    "2. second item\n",
    "3. third item\n",
    "    1. \n",
    "    indented items\n",
    "    2.\n",
    "    indented item\n",
    "4. fourth item"
   ]
  },
  {
   "cell_type": "markdown",
   "id": "ccdb7e3f",
   "metadata": {},
   "source": [
    "# using the html\n",
    "<ol>\n",
    "    <li>first item</li>\n",
    "    <li>second\n",
    "    item</li>\n",
    "    <li>third item</li>\n",
    "    <li>fourth</li>\n",
    "</ol>"
   ]
  },
  {
   "cell_type": "markdown",
   "id": "da1f34b5",
   "metadata": {},
   "source": [
    "<ol>\n",
    "    <li>first item</li>\n",
    "    <li>second item</li>\n",
    "    <li>third item</li>\n",
    "</ol>"
   ]
  },
  {
   "cell_type": "markdown",
   "id": "8cdc0936",
   "metadata": {},
   "source": [
    "<ol>\n",
    "    <li>first item</li>\n",
    "    <li>second item</li>\n",
    "    <li>third item\n",
    "        <ol>\n",
    "            <li>indented item</li>\n",
    "            <li>indented item</li>\n",
    "        </ol>\n",
    "    </li>\n",
    "    <li>fourth item</li>\n",
    "</ol>\n",
    "        "
   ]
  },
  {
   "cell_type": "markdown",
   "id": "f5512829",
   "metadata": {},
   "source": [
    "# ordered list best practice\n",
    "# do this\n",
    "1. first item\n",
    "2. second item"
   ]
  },
  {
   "cell_type": "markdown",
   "id": "ed5588ef",
   "metadata": {},
   "source": []
  },
  {
   "cell_type": "markdown",
   "id": "a7a59fe9",
   "metadata": {},
   "source": [
    "1) first item\n",
    "2) second item"
   ]
  },
  {
   "cell_type": "markdown",
   "id": "f51f024f",
   "metadata": {},
   "source": [
    "# unordered list\n",
    "to create an unordered list,add dashes(-),asterisk(*) or plus signs(+) in front of line items.Indent one or more items to created a nested list"
   ]
  },
  {
   "cell_type": "markdown",
   "id": "6fe3dee6",
   "metadata": {},
   "source": [
    "# markdown\n",
    "- first item\n",
    "- second item\n",
    "- third item\n",
    "- fourth item\n"
   ]
  },
  {
   "cell_type": "markdown",
   "id": "9f82fd83",
   "metadata": {},
   "source": [
    "* first item\n",
    "* second item\n",
    "* third item\n",
    "* fourth item"
   ]
  },
  {
   "cell_type": "markdown",
   "id": "0a335c38",
   "metadata": {},
   "source": [
    "+ first item\n",
    "+ second item\n",
    "+ third item\n",
    "+ fourth item"
   ]
  },
  {
   "cell_type": "markdown",
   "id": "516d2db1",
   "metadata": {},
   "source": [
    "- first item\n",
    "- second item\n",
    "- third item\n",
    "    -\n",
    " indented item\n",
    "    -\n",
    " \n",
    " \n",
    " \n",
    " indented item\n",
    "- fourth item"
   ]
  },
  {
   "cell_type": "markdown",
   "id": "6d0525c3",
   "metadata": {},
   "source": [
    "# using html to create the unordered list\n",
    "\n",
    "<ul>\n",
    "    <li>first item</li>\n",
    "    <li>second item</li>\n",
    "    <li>third item</li>\n",
    "    <li>fourth item</li>\n",
    "</ul>"
   ]
  },
  {
   "cell_type": "markdown",
   "id": "cadeb6f8",
   "metadata": {},
   "source": [
    "<ul>\n",
    "    <li>first item</li>\n",
    "    <li>second item</li>\n",
    "    <li>third item</li>\n",
    "        <ul>\n",
    "            <li>indented item</li>\n",
    "            <li>indented item</li>\n",
    "        </ul>\n",
    "    <li>fourth item</li>\n",
    "</ul>"
   ]
  },
  {
   "cell_type": "markdown",
   "id": "c8d73444",
   "metadata": {},
   "source": [
    "# starting unordered list items with numbers\n",
    "if we need to start an unordered list item with a number followed by a period we can use the backslash(/) escape period\n"
   ]
  },
  {
   "cell_type": "markdown",
   "id": "549c1ca3",
   "metadata": {},
   "source": [
    "- 1968\\.a great year\n",
    "- i think 1969 was second best"
   ]
  },
  {
   "cell_type": "markdown",
   "id": "14a520c9",
   "metadata": {},
   "source": [
    "# Adding element in this list\n",
    "to add another element in a list while preserving the continuity of the list,indent the elements four spaces or one tab "
   ]
  },
  {
   "cell_type": "markdown",
   "id": "168dfa59",
   "metadata": {},
   "source": [
    "* this is the first list item.\n",
    "* here's the second list items\n",
    "     \n",
    "     I need to add another paragraph below the second list item\n",
    "     \n",
    "*and here's the third list item"
   ]
  },
  {
   "cell_type": "markdown",
   "id": "0552e8a1",
   "metadata": {},
   "source": [
    "# using blockquotes to add the list\n",
    "\n",
    "* this is the first list items\n",
    "* here's the second list items\n",
    "    \n",
    "    >a blcoquotes would look great below the second list items\n",
    "    \n",
    "* and here's the third list items"
   ]
  },
  {
   "cell_type": "markdown",
   "id": "bf777d11",
   "metadata": {},
   "source": [
    "# code blocks \n",
    "code blocks are normally indented four spaces or one tab. when they're in list,indent them eight spaces or two tabs\n"
   ]
  },
  {
   "cell_type": "markdown",
   "id": "a5f730db",
   "metadata": {},
   "source": [
    "1. open the file\n",
    "2. find the following code block on line 21:\n",
    "\n",
    "        <html>\n",
    "            <head>\n",
    "                <title>test</title>\n",
    "            </head>\n",
    "    \n",
    "    \n",
    "3. update the title to match the name of your website"
   ]
  },
  {
   "cell_type": "markdown",
   "id": "b8c66819",
   "metadata": {},
   "source": [
    "# images"
   ]
  },
  {
   "cell_type": "markdown",
   "id": "176cf47f",
   "metadata": {},
   "source": [
    "1. open the file containing the linux mascot\n",
    "2. Marvel at its beauty\n",
    "\n",
    "    ![Tux, the Linux mascot](/assets/images/C:\\Users\\pc\\Downloads\\tux.avif)\n",
    "\n",
    "3. close the file"
   ]
  },
  {
   "cell_type": "markdown",
   "id": "46ffd762",
   "metadata": {},
   "source": [
    "# lists\n",
    "we can nest an unordered list in an ordered list or vice versa\n"
   ]
  },
  {
   "cell_type": "markdown",
   "id": "22394d28",
   "metadata": {},
   "source": [
    "1. first item\n",
    "2. second item\n",
    "3. third item\n",
    "\n",
    "    - indented item\n",
    "    \n",
    "    - indented item\n",
    "    \n",
    "4. fourth item\n"
   ]
  },
  {
   "cell_type": "markdown",
   "id": "17576c90",
   "metadata": {},
   "source": [
    "# code \n",
    "to denote a word or phrase a code , enclose it in bacticks()\n"
   ]
  },
  {
   "cell_type": "markdown",
   "id": "5b4c5e2a",
   "metadata": {},
   "source": [
    "# Markdown\n",
    "at the command\n",
    "promt, type\n",
    "'nano' ."
   ]
  },
  {
   "cell_type": "markdown",
   "id": "f15c6040",
   "metadata": {},
   "source": [
    "# html\n",
    "At the command promt,\n",
    "type <code>nano</code>"
   ]
  },
  {
   "cell_type": "markdown",
   "id": "7958fa93",
   "metadata": {},
   "source": [
    "# Escaping Backticks\n",
    "if the word or phrase we wan t to denote as code includes one or more backticks, we can escape it by enclosing the word or phrase in double backticks('')\n"
   ]
  },
  {
   "cell_type": "markdown",
   "id": "b9b5eb3e",
   "metadata": {},
   "source": [
    "``Use `code` in\n",
    "your markdown\n",
    "file.``\n"
   ]
  },
  {
   "cell_type": "markdown",
   "id": "9bdaa1da",
   "metadata": {},
   "source": [
    "# html\n",
    "<code>use `code` in \n",
    " your markdown file.\n",
    "</code>"
   ]
  },
  {
   "cell_type": "markdown",
   "id": "3a1dc1fa",
   "metadata": {},
   "source": [
    "# CODE Blocks\n",
    "to create code blocks,indent every line of the block by at least four spaces or one tab\n"
   ]
  },
  {
   "cell_type": "markdown",
   "id": "b0d35a7b",
   "metadata": {},
   "source": [
    "        <html>\n",
    "            <head>\n",
    "            </head>\n",
    "        </html>"
   ]
  },
  {
   "cell_type": "markdown",
   "id": "39a3b781",
   "metadata": {},
   "source": [
    "# horizontal rules\n",
    "to create a horizontal rules,use three or more asterisk(***),dashes(---), or underscore(___) or a line by  themselves\n",
    "\n"
   ]
  },
  {
   "cell_type": "markdown",
   "id": "22d6ff13",
   "metadata": {},
   "source": [
    "***\n",
    "\n",
    "---"
   ]
  },
  {
   "cell_type": "markdown",
   "id": "2cff034d",
   "metadata": {},
   "source": [
    "# horizontal rules best practice\n",
    "\n",
    "try to put a blank line\n",
    "before...\n",
    "\n",
    "***\n",
    "\n",
    "and this is very nice\n",
    "\n",
    "---\n",
    "\n",
    "...and after a horizontal rule"
   ]
  },
  {
   "cell_type": "markdown",
   "id": "781e6111",
   "metadata": {},
   "source": [
    "# links\n",
    "to create a link,enclose the link text in brackets(e.g[Duck Duck Go])and then follow it immediately with the url in parenthesis \n",
    "\n"
   ]
  },
  {
   "cell_type": "markdown",
   "id": "906fd247",
   "metadata": {},
   "source": [
    "my favoriate search engine is [Duck Duck Go](https://duckduckgo.com)"
   ]
  },
  {
   "cell_type": "markdown",
   "id": "b90af9fa",
   "metadata": {},
   "source": [
    "# Adding titles\n",
    "To add a title ,enclose it in quotation marks after  the url\n"
   ]
  },
  {
   "cell_type": "markdown",
   "id": "94ee7c46",
   "metadata": {},
   "source": [
    "my favoriate search engine is [Duck Duck Go](https:duckduckgo.com \"The best search engine for privacyy\")"
   ]
  },
  {
   "cell_type": "markdown",
   "id": "16e894b6",
   "metadata": {},
   "source": [
    "# url and email address\n",
    "to quickly turn a url or email address into a link,enclose it in single brackets\n"
   ]
  },
  {
   "cell_type": "markdown",
   "id": "060328a8",
   "metadata": {},
   "source": [
    "<https://www.google.com>\n",
    "\n",
    "<ram456@gmail.com>"
   ]
  },
  {
   "cell_type": "markdown",
   "id": "3f322888",
   "metadata": {},
   "source": [
    "# images\n",
    "to add an image add an exclamation mark(!) followed by alt text in brackets"
   ]
  },
  {
   "cell_type": "markdown",
   "id": "e0687ef1",
   "metadata": {},
   "source": [
    "![The San Juan Mountains are beautiful!](![Tux Image](C:/Users/pc/Downloads/tux.png)\n",
    " \"San Juan Mountains\")"
   ]
  },
  {
   "cell_type": "markdown",
   "id": "4ddb4842",
   "metadata": {},
   "source": [
    "# linking image\n",
    "to add a link to an image ,enclose the markdown for the image in brackets\n"
   ]
  },
  {
   "cell_type": "code",
   "execution_count": 82,
   "id": "d565125f",
   "metadata": {},
   "outputs": [
    {
     "ename": "SyntaxError",
     "evalue": "invalid syntax (102809542.py, line 1)",
     "output_type": "error",
     "traceback": [
      "\u001b[1;36m  Input \u001b[1;32mIn [82]\u001b[1;36m\u001b[0m\n\u001b[1;33m    [![An old rock in the desert](/assets/images/shiprock.jpg \"Shiprock, New Mexico by Beau Rogers\")](https://www.flickr.com/photos/beaurogers/31833779864/in/photolist-Qv3rFw-34mt9F-a9Cmfy-5Ha3Zi-9msKdv-o3hgjr-hWpUte-4WMsJ1-KUQ8N-deshUb-vssBD-6CQci6-8AFCiD-zsJWT-nNfsgB-dPDwZJ-bn9JGn-5HtSXY-6CUhAL-a4UTXB-ugPum-KUPSo-fBLNm-6CUmpy-4WMsc9-8a7D3T-83KJev-6CQ2bK-nNusHJ-a78rQH-nw3NvT-7aq2qf-8wwBso-3nNceh-ugSKP-4mh4kh-bbeeqH-a7biME-q3PtTf-brFpgb-cg38zw-bXMZc-nJPELD-f58Lmo-bXMYG-bz8AAi-bxNtNT-bXMYi-bXMY6-bXMYv)\u001b[0m\n\u001b[1;37m     ^\u001b[0m\n\u001b[1;31mSyntaxError\u001b[0m\u001b[1;31m:\u001b[0m invalid syntax\n"
     ]
    }
   ],
   "source": [
    "[![An old rock in the desert](/assets/images/shiprock.jpg \"Shiprock, New Mexico by Beau Rogers\")](https://www.flickr.com/photos/beaurogers/31833779864/in/photolist-Qv3rFw-34mt9F-a9Cmfy-5Ha3Zi-9msKdv-o3hgjr-hWpUte-4WMsJ1-KUQ8N-deshUb-vssBD-6CQci6-8AFCiD-zsJWT-nNfsgB-dPDwZJ-bn9JGn-5HtSXY-6CUhAL-a4UTXB-ugPum-KUPSo-fBLNm-6CUmpy-4WMsc9-8a7D3T-83KJev-6CQ2bK-nNusHJ-a78rQH-nw3NvT-7aq2qf-8wwBso-3nNceh-ugSKP-4mh4kh-bbeeqH-a7biME-q3PtTf-brFpgb-cg38zw-bXMZc-nJPELD-f58Lmo-bXMYG-bz8AAi-bxNtNT-bXMYi-bXMY6-bXMYv)"
   ]
  },
  {
   "cell_type": "markdown",
   "id": "73edf153",
   "metadata": {},
   "source": []
  },
  {
   "cell_type": "markdown",
   "id": "98cbbdf6",
   "metadata": {},
   "source": [
    "# escaping character\n",
    "to display a literal character that would otherwise be used to format text in markdown document\n",
    "add a backslash  in front of the character\n",
    "\n",
    "\\* without the backslash,thar would be bullet in unordered list\n",
    "\n",
    "\\[] without the backslash,thar would be bullet in unordered list\n",
    "\n",
    "\\() without the backslash,thar would be bullet in unordered list\n",
    "\n",
    "\\. without the backslash,thar would be bullet in unordered list\n",
    "\n",
    "\\| without the backslash,thar would be bullet in unordered list\n",
    "\n",
    "\\<> without the backslash,thar would be bullet in unordered list"
   ]
  },
  {
   "cell_type": "code",
   "execution_count": null,
   "id": "d4792216",
   "metadata": {},
   "outputs": [],
   "source": []
  }
 ],
 "metadata": {
  "kernelspec": {
   "display_name": "Python 3 (ipykernel)",
   "language": "python",
   "name": "python3"
  },
  "language_info": {
   "codemirror_mode": {
    "name": "ipython",
    "version": 3
   },
   "file_extension": ".py",
   "mimetype": "text/x-python",
   "name": "python",
   "nbconvert_exporter": "python",
   "pygments_lexer": "ipython3",
   "version": "3.9.12"
  }
 },
 "nbformat": 4,
 "nbformat_minor": 5
}
