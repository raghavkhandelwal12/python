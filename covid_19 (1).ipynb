{
 "cells": [
  {
   "cell_type": "markdown",
   "id": "0d575af5-68df-4f15-b670-a84eee910ff7",
   "metadata": {},
   "source": [
    "# Task 4: COVID-19 Data Visualization\n",
    "**Objective**: Create an interactive dashboard to visualize the spread of COVID-19 across different countries. The data should include daily confirmed cases, recoveries, and deaths.\n",
    "\n",
    "**Data**: You can use the COVID-19 Data Repository by the Center for Systems Science and Engineering (CSSE) at Johns Hopkins University.\n",
    "\n",
    "**Expectations**:\n",
    "\n",
    "Use interactive plots to allow users to select and compare different countries.\n",
    "Display trends for confirmed cases, recoveries, and deaths over time.\n",
    "Include tools for zooming and panning.\n",
    "Hint: Use Plotly for creating interactive plots "
   ]
  },
  {
   "cell_type": "code",
   "execution_count": null,
   "id": "02187f74-3eeb-40d3-b4e5-544149c0ea91",
   "metadata": {},
   "outputs": [],
   "source": [
    "#  Import Libraries\n",
    "import pandas as pd\n",
    "import plotly.express as px\n",
    "#  Define File Paths\n",
    "confirmed_file = r\"C:\\Users\\pc\\Downloads\\time_series_covid19_confirmed_global.csv\"\n",
    "deaths_file = r\"C:\\Users\\pc\\Downloads\\time_series_covid19_deaths_global.csv\"\n",
    "recovered_file = r\"C:\\Users\\pc\\Downloads\\time_series_covid19_recovered_global.csv\"\n",
    "#  Read CSV Files\n",
    "df_confirmed = pd.read_csv(confirmed_file)\n",
    "df_deaths = pd.read_csv(deaths_file)\n",
    "df_recovered = pd.read_csv(recovered_file)\n",
    "# Melt DataFrames to Long Format\n",
    "df_confirmed_long = pd.melt(df_confirmed, id_vars=['Province/State', 'Country/Region', 'Lat', 'Long'],\n",
    "                            var_name='Date', value_name='Confirmed')\n",
    "df_deaths_long = pd.melt(df_deaths, id_vars=['Province/State', 'Country/Region', 'Lat', 'Long'],\n",
    "                         var_name='Date', value_name='Deaths')\n",
    "df_recovered_long = pd.melt(df_recovered, id_vars=['Province/State', 'Country/Region', 'Lat', 'Long'],\n",
    "                            var_name='Date', value_name='Recovered')\n",
    "#  Merge Long DataFrames\n",
    "df_long = pd.merge(df_confirmed_long, df_deaths_long, on=['Province/State', 'Country/Region', 'Lat', 'Long', 'Date'])\n",
    "df_long = pd.merge(df_long, df_recovered_long, on=['Province/State', 'Country/Region', 'Lat', 'Long', 'Date'])\n",
    "#  Convert 'Date' Column to Datetime Format\n",
    "df_long['Date'] = pd.to_datetime(df_long['Date'], format='%m/%d/%y')\n",
    "#  Melt DataFrame for Plotting\n",
    "df_melted = pd.melt(df_long, id_vars=['Province/State', 'Country/Region', 'Lat', 'Long', 'Date'],\n",
    "                     value_vars=['Confirmed', 'Deaths', 'Recovered'],\n",
    "                     var_name='type', value_name='count')\n",
    "#  Plot Confirmed Cases\n",
    "fig_confirmed = px.line(df_melted[df_melted['type'] == 'Confirmed'], x='Date', y='count', \n",
    "                        color='Country/Region', title='Confirmed COVID-19 Cases Over Time')\n",
    "fig_confirmed.update_layout(xaxis_title='Date', yaxis_title='Count')\n",
    "fig_confirmed.show()\n",
    "#  Plot Deaths\n",
    "fig_deaths = px.line(df_melted[df_melted['type'] == 'Deaths'], x='Date', y='count', \n",
    "                     color='Country/Region', title='COVID-19 Deaths Over Time')\n",
    "fig_deaths.update_layout(xaxis_title='Date', yaxis_title='Count')\n",
    "fig_deaths.show()\n",
    "#  Plot Recovered Cases\n",
    "fig_recovered = px.line(df_melted[df_melted['type'] == 'Recovered'], x='Date', y='count', \n",
    "                        color='Country/Region', title='COVID-19 Recoveries Over Time')\n",
    "fig_recovered.update_layout(xaxis_title='Date', yaxis_title='Count')\n",
    "fig_recovered.show()\n",
    "\n",
    "\n",
    "\n",
    "\n",
    "\n",
    "\n",
    "\n",
    "\n"
   ]
  },
  {
   "cell_type": "code",
   "execution_count": null,
   "id": "ab1caa9f-57e3-406d-ba32-901563158b35",
   "metadata": {},
   "outputs": [],
   "source": []
  }
 ],
 "metadata": {
  "kernelspec": {
   "display_name": "Python 3 (ipykernel)",
   "language": "python",
   "name": "python3"
  },
  "language_info": {
   "codemirror_mode": {
    "name": "ipython",
    "version": 3
   },
   "file_extension": ".py",
   "mimetype": "text/x-python",
   "name": "python",
   "nbconvert_exporter": "python",
   "pygments_lexer": "ipython3",
   "version": "3.12.4"
  }
 },
 "nbformat": 4,
 "nbformat_minor": 5
}
