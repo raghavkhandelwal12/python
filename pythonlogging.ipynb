{
 "cells": [
  {
   "cell_type": "markdown",
   "metadata": {},
   "source": [
    "# Logging in python\n",
    "- Logging is a means of tracking events that happen when some software runs.\n",
    "- Logging is important for software developing,debugging,and running."
   ]
  },
  {
   "cell_type": "markdown",
   "metadata": {},
   "source": [
    "## Why print statement is not pythonic\n",
    " **some developers use the concept of printing the statement to validate if the statements are executed correctly or if some error has occured.But printing is not a good idea.It may solve out issue for simple scripts but for complex scripts,the printing approach will fail.**\n",
    "\n",
    "**Python has a built in module logging which allows writing status message to a file or any other output streams.The file can contain information on which part of the code is executed and what problems have arisen**\n"
   ]
  },
  {
   "cell_type": "markdown",
   "metadata": {},
   "source": [
    "# Python logging levels\n",
    "There are five built in levels of the log message\n",
    "\n",
    "- **Debug**: These are used to give the detailed information,typically of interest only when diagnosing problems.\n",
    "\n",
    "- **Info**: These are used to confirm that things are working as expected.\n",
    "\n",
    "- **Warning**: These are used as an indication that something unexpected happens.\n",
    "\n",
    "- **Error**: This tells that due to a more serious problem,the software has not been able to perform some function.\n",
    "\n",
    "- **Critical**: This tells serious error indicating that the program itself may be unable to continue running"
   ]
  },
  {
   "cell_type": "markdown",
   "metadata": {},
   "source": [
    "**There are several logger objects offered by the base handler-itself**\n",
    "\n",
    "- Logger.info(msg):This will log a message with level INFO on this logger.\n",
    "- Logger.warning(msg):This will log a message with a level Warning on this logger.\n",
    "- Logger.error(msg): This will log a message with a level ERROR on this logger.\n",
    "- Logger.critical(msg):This will log a message with a level CRITICAL on this logger.\n",
    "- Logger.log(lvl,msg):This will log a message with integer level lvl on this logger.\n",
    "- Logger.exception(msg):This will log a message with level ERROR on this logger.\n",
    "- Logger.setLevel(lvl):This function sets the threshold of this logger to lvl.This means that all the message below this level will be ignored.\n",
    "- Logger.addFilter(filt):This adds a specific filter into this looger.\n",
    "- Logger.removeFilter(filt): This remove a specific filter into the looger.\n",
    "- Logger.filter(record): This method applies the logger filter to record provide and return true if the record is to be processed.\n",
    "- Logger.addHandler(hdlr):This adds a specific handler hdlr to this logger.\n",
    "- Logger.removeHandler(hdlr):This remove a specific handler hdlr into this logger.\n",
    "- Logger.hasHandlers(): This checks if the logger has any handler configured or not. \n",
    "\n",
    "\n"
   ]
  },
  {
   "cell_type": "markdown",
   "metadata": {},
   "source": [
    "## Useful Handlers\n",
    "In addition to the base class Handler class,many useful subclasses are provided\n",
    "\n",
    "- Handler: **StreamHandler**\n",
    "- Description: Sends message to streams(file-like objects)\n",
    "- Handler: **FileHandler**\n",
    "- Description: Send message to disk files.\n",
    "- Handler: **BaseRotatingHandler**\n"
   ]
  },
  {
   "cell_type": "markdown",
   "metadata": {},
   "source": [
    "# Logging a variable\n",
    "This code demonstrate how to log an error message.The logging.erro() function is used to log an error message with a placeholder %s for the variable name.\n"
   ]
  },
  {
   "cell_type": "code",
   "execution_count": 2,
   "metadata": {},
   "outputs": [
    {
     "name": "stderr",
     "output_type": "stream",
     "text": [
      "ERROR:root:GFG raised an error\n"
     ]
    }
   ],
   "source": [
    "import logging\n",
    "name='GFG'\n",
    "logging.error('%s raised an error',name)"
   ]
  },
  {
   "cell_type": "markdown",
   "metadata": {},
   "source": [
    "## Logging of all the levels.\n",
    "this code demostrates all the level of the logging\n"
   ]
  },
  {
   "cell_type": "code",
   "execution_count": 3,
   "metadata": {},
   "outputs": [
    {
     "name": "stderr",
     "output_type": "stream",
     "text": [
      "DEBUG:root:Harmless debug Message\n",
      "INFO:root:just an information\n",
      "WARNING:root:its warning\n",
      "ERROR:root:did you try to divide by zero\n",
      "CRITICAL:root:Internet is down\n"
     ]
    }
   ],
   "source": [
    "# importing module\n",
    "import logging\n",
    "\n",
    "#create an configure logger\n",
    "logging.basicConfig(filename='newfile.log',format='%(asctime)s %(message)s',filemode='w')\n",
    "\n",
    "#creting an object\n",
    "logger=logging.getLogger()\n",
    "#setting the threshold of loggger to debug\n",
    "logger.setLevel(logging.DEBUG)\n",
    "\n",
    "#test message\n",
    "logger.debug('Harmless debug Message')\n",
    "logger.info('just an information')\n",
    "logger.warning('its warning')\n",
    "logger.error('did you try to divide by zero')\n",
    "logger.critical('Internet is down')\n",
    "\n"
   ]
  },
  {
   "cell_type": "code",
   "execution_count": 5,
   "metadata": {},
   "outputs": [
    {
     "ename": "TypeError",
     "evalue": "FileHandler.__init__() missing 1 required positional argument: 'filename'",
     "output_type": "error",
     "traceback": [
      "\u001b[1;31m---------------------------------------------------------------------------\u001b[0m",
      "\u001b[1;31mTypeError\u001b[0m                                 Traceback (most recent call last)",
      "Cell \u001b[1;32mIn[5], line 9\u001b[0m\n\u001b[0;32m      7\u001b[0m \u001b[38;5;66;03m#create handlers.\u001b[39;00m\n\u001b[0;32m      8\u001b[0m console_handler\u001b[38;5;241m=\u001b[39mlogging\u001b[38;5;241m.\u001b[39mStreamHandler()\n\u001b[1;32m----> 9\u001b[0m file_handler\u001b[38;5;241m=\u001b[39m\u001b[43mlogging\u001b[49m\u001b[38;5;241;43m.\u001b[39;49m\u001b[43mFileHandler\u001b[49m\u001b[43m(\u001b[49m\u001b[43m)\u001b[49m\n\u001b[0;32m     11\u001b[0m \u001b[38;5;66;03m#set the log level for handlers\u001b[39;00m\n\u001b[0;32m     12\u001b[0m console_handler\u001b[38;5;241m.\u001b[39msetLevel(logging\u001b[38;5;241m.\u001b[39mWARNING)\n",
      "\u001b[1;31mTypeError\u001b[0m: FileHandler.__init__() missing 1 required positional argument: 'filename'"
     ]
    }
   ],
   "source": [
    "# Example\n",
    "import logging\n",
    "#create a logger\n",
    "logger=logging.getLogger('example_logger')\n",
    "logger.setLevel(logging.DEBUG)#set the log level\n",
    "\n",
    "#create handlers.\n",
    "console_handler=logging.StreamHandler()\n",
    "file_handler=logging.FileHandler('example.log')\n",
    "\n",
    "#set the log level for handlers\n",
    "console_handler.setLevel(logging.WARNING)\n",
    "file_handler.setLevel(logging.DEBUG)\n",
    "\n",
    "\n",
    "#create formatters and add them to handlers.\n",
    "console_format=logging.Formatter('%(name)s-%(levelname)s-%(message)s')\n",
    "file_format=logging.Formatter('%(asctime)s-%(name)s-%(levelname)s-%(message)s')\n",
    "console_handler.setFormatter(console_format)\n",
    "file_handler.setFormatter('file_format')\n",
    "\n",
    "#Log some message\n",
    "logger.debug('this is a debug message')\n",
    "logger.info('this is a info message')\n",
    "logger.warning('this is a warning message')\n",
    "logger.error('this is an error message')\n",
    "logger.critical('this is a critical message')"
   ]
  },
  {
   "cell_type": "code",
   "execution_count": null,
   "metadata": {},
   "outputs": [],
   "source": []
  }
 ],
 "metadata": {
  "kernelspec": {
   "display_name": "Python 3",
   "language": "python",
   "name": "python3"
  },
  "language_info": {
   "codemirror_mode": {
    "name": "ipython",
    "version": 3
   },
   "file_extension": ".py",
   "mimetype": "text/x-python",
   "name": "python",
   "nbconvert_exporter": "python",
   "pygments_lexer": "ipython3",
   "version": "3.12.0"
  }
 },
 "nbformat": 4,
 "nbformat_minor": 2
}
