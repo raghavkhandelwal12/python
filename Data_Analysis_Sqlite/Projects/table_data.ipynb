{
 "cells": [
  {
   "cell_type": "markdown",
   "metadata": {},
   "source": [
    "# What is time series\n",
    "- A time series is a sequence of data points collected, recorded, or measured at successive, evenly-spaced time intervals. Each data point represents observations or measurements taken over time, such as stock prices, temperature readings"
   ]
  },
  {
   "cell_type": "markdown",
   "metadata": {},
   "source": [
    "# Example: \n",
    "- **Finance**:Daily stock prices,quarterly earning reports.\n",
    "- **Environmental Science**: Hourly temprature readings,daily rainfall measurement.\n",
    "- **Healthcare**:Minute by Minute heart rate monitoring,weekly infection rates.\n",
    "- **Retail**:Monthly sales data,daily foot traffic in stores.\n",
    "- **Manufacturing**: Hourly machine performance metrics,daily production output."
   ]
  },
  {
   "cell_type": "markdown",
   "metadata": {},
   "source": []
  }
 ],
 "metadata": {
  "kernelspec": {
   "display_name": "whisper-env",
   "language": "python",
   "name": "python3"
  },
  "language_info": {
   "name": "python",
   "version": "3.12.0"
  }
 },
 "nbformat": 4,
 "nbformat_minor": 2
}
