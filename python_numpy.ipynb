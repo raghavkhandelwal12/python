{
 "cells": [
  {
   "cell_type": "code",
   "execution_count": 2,
   "metadata": {},
   "outputs": [
    {
     "name": "stdout",
     "output_type": "stream",
     "text": [
      "[1 2 3 4 5]\n"
     ]
    }
   ],
   "source": [
    "import numpy as np\n",
    "arr=np.array([1,2,3,4,5])  \n",
    "print(arr)"
   ]
  },
  {
   "cell_type": "markdown",
   "metadata": {},
   "source": [
    "# Numpy\n",
    "Numpy is a powerful library for numerical computing in python.It provides support of array,matrics and many mathematics operations."
   ]
  },
  {
   "cell_type": "code",
   "execution_count": 1,
   "metadata": {},
   "outputs": [
    {
     "name": "stdout",
     "output_type": "stream",
     "text": [
      "1D array [1 2 3 4 5]\n",
      "2d array [[1 2 3]\n",
      " [4 5 6]]\n"
     ]
    }
   ],
   "source": [
    "# Numpy arrays\n",
    "import numpy as np\n",
    "#creating a 1d array\n",
    "arr=np.array([1,2,3,4,5])\n",
    "\n",
    "#creating 2d array\n",
    "arr2=np.array([[1,2,3],[4,5,6]])\n",
    "print(\"1D array\",arr)\n",
    "print('2d array',arr2)\n"
   ]
  },
  {
   "cell_type": "code",
   "execution_count": 4,
   "metadata": {},
   "outputs": [
    {
     "name": "stdout",
     "output_type": "stream",
     "text": [
      "shape of arr1: (5,)\n",
      "shape of arr2: (2, 3)\n",
      "Number of dimensions of arr2: 2\n",
      "datatype of arr2 int64\n",
      "size of arr2 6\n"
     ]
    }
   ],
   "source": [
    "# Array attribute\n",
    "# Numpy array have several attribute that give information about the array.\n",
    "\n",
    "print('shape of arr1:',arr.shape)\n",
    "print('shape of arr2:',arr2.shape)\n",
    "print('Number of dimensions of arr2:',arr2.ndim)\n",
    "print('datatype of arr2',arr2.dtype)\n",
    "print('size of arr2',arr2.size)\n",
    "\n"
   ]
  },
  {
   "cell_type": "code",
   "execution_count": 5,
   "metadata": {},
   "outputs": [
    {
     "name": "stdout",
     "output_type": "stream",
     "text": [
      "zeros:\n",
      " [[0. 0. 0.]\n",
      " [0. 0. 0.]]\n",
      "ones\n",
      " [[1. 1. 1.]\n",
      " [1. 1. 1.]]\n",
      "random values\n",
      " [[0.8509155  0.99947171 0.4720762 ]\n",
      " [0.92103966 0.20744868 0.27013254]]\n",
      "range array:\n",
      ": [0 1 2 3 4 5 6 7 8 9]\n",
      "logspace array:\n",
      " [ 10.          12.91549665  16.68100537  21.5443469   27.82559402\n",
      "  35.93813664  46.41588834  59.94842503  77.42636827 100.        ]\n"
     ]
    }
   ],
   "source": [
    "# array intialization\n",
    "#Numpy provide several function to create array.\n",
    "\n",
    "#array of zeros\n",
    "zeros=np.zeros((2,3))\n",
    "\n",
    "#array of ones\n",
    "ones=np.ones((2,3))\n",
    "\n",
    "#array with random values\n",
    "rand=np.random.rand(2,3)\n",
    "\n",
    "#array with a range of values\n",
    "range_arr=np.arange(10)\n",
    "\n",
    "#array with values spaces evenly on a log scale\n",
    "\n",
    "logspace_arr=np.logspace(1,2,10)\n",
    "print(\"zeros:\\n\",zeros)\n",
    "print(\"ones\\n\",ones)\n",
    "print('random values\\n',rand)\n",
    "print('range array:\\n:',range_arr)\n",
    "print('logspace array:\\n',logspace_arr)\n"
   ]
  },
  {
   "cell_type": "code",
   "execution_count": 2,
   "metadata": {},
   "outputs": [
    {
     "name": "stdout",
     "output_type": "stream",
     "text": [
      "addition: [11 22 33 44 55]\n",
      "substraction [ -9 -18 -27 -36 -45]\n",
      "Multiplication [ 10  40  90 160 250]\n",
      "Division [0.1 0.1 0.1 0.1 0.1]\n"
     ]
    }
   ],
   "source": [
    "# Basic operations.\n",
    "#Arithmatic Operations.\n",
    "\n",
    "#Arithmatic operations can be performed on numpy array element wise\n",
    "arr1=np.array([1,2,3,4,5])\n",
    "arr2=np.array([10,20,30,40,50])\n",
    "\n",
    "#Addition\n",
    "add=arr1+arr2\n",
    "\n",
    "#substraction\n",
    "sub=arr1-arr2\n",
    "\n",
    "#Multiplication\n",
    "mul=arr1*arr2\n",
    "\n",
    "#Division\n",
    "div=arr1/arr2\n",
    "\n",
    "print('addition:',add)\n",
    "print('substraction',sub)\n",
    "print('Multiplication',mul)\n",
    "print('Division',div)"
   ]
  },
  {
   "cell_type": "markdown",
   "metadata": {},
   "source": [
    "# Stastical Operations\n",
    "Numpy provides various function to perform stastistical operations."
   ]
  },
  {
   "cell_type": "code",
   "execution_count": 8,
   "metadata": {},
   "outputs": [
    {
     "name": "stdout",
     "output_type": "stream",
     "text": [
      "Min: 1\n",
      "Max: 10\n",
      "Mean: 5.5\n",
      "Standard Deviation: 2.8722813232690143\n",
      "Sum 55\n"
     ]
    }
   ],
   "source": [
    "arr=np.array([1,2,3,4,5,6,7,8,9,10])\n",
    "\n",
    "# minimum and maximum\n",
    "min_val=np.min(arr)\n",
    "max_val=np.max(arr)\n",
    "\n",
    "# Mean\n",
    "mean_val=np.mean(arr)\n",
    "\n",
    "# Standard Deviation\n",
    "std_val=np.std(arr)\n",
    "\n",
    "# Sum\n",
    "sum_val=np.sum(arr)\n",
    "print('Min:',min_val)\n",
    "print('Max:',max_val)\n",
    "print(\"Mean:\",mean_val)\n",
    "print('Standard Deviation:',std_val)\n",
    "print(\"Sum\",sum_val)\n",
    "\n"
   ]
  },
  {
   "cell_type": "markdown",
   "metadata": {},
   "source": [
    "# Advance Numpy\n",
    "1. **Broadcasting**: Broadcasting allows Numpy to perform element wise operation on array of different shapes."
   ]
  },
  {
   "cell_type": "code",
   "execution_count": 9,
   "metadata": {},
   "outputs": [
    {
     "name": "stdout",
     "output_type": "stream",
     "text": [
      "[[2 3 4]\n",
      " [3 4 5]\n",
      " [4 5 6]]\n"
     ]
    }
   ],
   "source": [
    "arr=np.array([1,2,3])\n",
    "arr2=np.array([[1],[2],[3]])\n",
    "#Broadcasting example\n",
    "result=arr+arr2\n",
    "print(result)"
   ]
  },
  {
   "cell_type": "markdown",
   "metadata": {},
   "source": [
    "# Reshaping Arrays.\n",
    "We can change the shape of an array using the reshape function."
   ]
  },
  {
   "cell_type": "code",
   "execution_count": 10,
   "metadata": {},
   "outputs": [
    {
     "name": "stdout",
     "output_type": "stream",
     "text": [
      "[ 1  2  3  4  5  6  7  8  9 10 11 12]\n",
      "[[ 1  2  3  4]\n",
      " [ 5  6  7  8]\n",
      " [ 9 10 11 12]]\n"
     ]
    }
   ],
   "source": [
    "arr=np.arange(1,13)\n",
    "\n",
    "# Reshape to 3x4 array\n",
    "reshaped_arr=arr.reshape((3,4))\n",
    "print(arr)\n",
    "print(reshaped_arr)\n"
   ]
  },
  {
   "cell_type": "markdown",
   "metadata": {},
   "source": [
    "# Stacking and Splitting Arrays\n",
    "We can stack and split array using various function."
   ]
  },
  {
   "cell_type": "code",
   "execution_count": 3,
   "metadata": {},
   "outputs": [
    {
     "name": "stdout",
     "output_type": "stream",
     "text": [
      "[[1 2 5 6]\n",
      " [3 4 7 8]]\n",
      "[[1 2]\n",
      " [3 4]\n",
      " [5 6]\n",
      " [7 8]]\n",
      "[array([[1, 2],\n",
      "       [3, 4]]), array([[5, 6],\n",
      "       [7, 8]])]\n",
      "[array([[1, 2],\n",
      "       [3, 4]]), array([[5, 6],\n",
      "       [7, 8]])]\n"
     ]
    }
   ],
   "source": [
    "import numpy as np\n",
    "arr1=np.array([[1,2],[3,4]])\n",
    "arr2=np.array([[5,6],[7,8]])\n",
    "\n",
    "#Horizontal stack\n",
    "hstacked=np.hstack((arr1,arr2))\n",
    "\n",
    "#vertical stack\n",
    "vstacked=np.vstack((arr1,arr2))\n",
    "\n",
    "#split arrays\n",
    "hsplit_arr=np.hsplit(hstacked,2)\n",
    "vsplit_arr=np.vsplit(vstacked,2)\n",
    "\n",
    "print(hstacked)\n",
    "print(vstacked)\n",
    "print(hsplit_arr)\n",
    "print(vsplit_arr)\n"
   ]
  },
  {
   "cell_type": "code",
   "execution_count": 4,
   "metadata": {},
   "outputs": [
    {
     "name": "stdout",
     "output_type": "stream",
     "text": [
      "[[1 2 5 6]\n",
      " [3 4 7 8]]\n",
      "[[1 2]\n",
      " [3 4]\n",
      " [5 6]\n",
      " [7 8]]\n",
      "[array([[1, 2],\n",
      "       [3, 4]]), array([[5, 6],\n",
      "       [7, 8]])]\n",
      "[array([[1, 2],\n",
      "       [3, 4]]), array([[5, 6],\n",
      "       [7, 8]])]\n"
     ]
    }
   ],
   "source": [
    "import numpy as np\n",
    "arr=np.array([[1,2],[3,4]])\n",
    "arr2=np.array([[5,6],[7,8]])\n",
    "\n",
    "#Horizontal stack\n",
    "hstacked=np.hstack((arr,arr2))\n",
    "\n",
    "#vertical stack\n",
    "vstacked=np.vstack((arr,arr2))\n",
    "\n",
    "#split arrays\n",
    "hsplit_arr=np.hsplit(hstacked,2)\n",
    "vsplit_arr=np.vsplit(vstacked,2)\n",
    "\n",
    "print(hstacked)\n",
    "print(vstacked)\n",
    "print(hsplit_arr)\n",
    "print(vsplit_arr)\n"
   ]
  },
  {
   "cell_type": "markdown",
   "metadata": {},
   "source": [
    "# Linear Algebra Operation\n",
    "Numpy provides support for linear algebra operation"
   ]
  },
  {
   "cell_type": "code",
   "execution_count": 17,
   "metadata": {},
   "outputs": [
    {
     "name": "stdout",
     "output_type": "stream",
     "text": [
      "[[1 2]\n",
      " [3 4]]\n",
      "[[-2.   1. ]\n",
      " [ 1.5 -0.5]]\n",
      "[-0.37228132  5.37228132]\n",
      "[[-0.82456484 -0.41597356]\n",
      " [ 0.56576746 -0.90937671]]\n"
     ]
    }
   ],
   "source": [
    "from numpy.linalg import inv,eig\n",
    "matrix=np.array([[1,2],[3,4]])\n",
    "\n",
    "#Matrix inverse\n",
    "inv_matrix=inv(matrix)\n",
    "\n",
    "#eigenvalues and eigenvectors\n",
    "eigenvalues,eigenvectors=eig(matrix)\n",
    "print(matrix)\n",
    "print(inv_matrix)\n",
    "print(eigenvalues)\n",
    "print(eigenvectors)\n",
    "\n"
   ]
  },
  {
   "cell_type": "markdown",
   "metadata": {},
   "source": [
    "# Best practices\n",
    "- **Use Vectorized Operations**: Avoid loops,use numpy built functions and vectorized operation for better performance.\n",
    "- **Memory Management**: Be mindful of array sizes and data types to optimize memory usuage.\n",
    "- **Avoiod copying Data** : use views instead of copies whenever possible to save memory and imporove performance.\n",
    "- **Use Broadcasting**: Levrage boradcasting to perform operatios on arrays of different shapes with out needing to replicate data."
   ]
  },
  {
   "cell_type": "code",
   "execution_count": 5,
   "metadata": {},
   "outputs": [
    {
     "name": "stdout",
     "output_type": "stream",
     "text": [
      "[[1 2]\n",
      " [3 4]\n",
      " [5 6]]\n",
      "[[0.         2.82842712 5.65685425]\n",
      " [2.82842712 0.         2.82842712]\n",
      " [5.65685425 2.82842712 0.        ]]\n"
     ]
    }
   ],
   "source": [
    "# Problem:Calculates the pairwise distance between points in 2d space\n",
    "import numpy as np\n",
    "\n",
    "#define points in 2d space\n",
    "points=np.array([[1,2],[3,4],[5,6]])\n",
    "#calculate the pairwise distances\n",
    "#(x2-x1)^2+(y2-y1)^2\n",
    "\n",
    "diff=points[:,np.newaxis,:]-points[np.newaxis,:,:]\n",
    "squared_diff=diff**2\n",
    "distances=np.sqrt(squared_diff.sum(axis=2))\n",
    "print(points)\n",
    "print(distances)"
   ]
  },
  {
   "cell_type": "markdown",
   "metadata": {},
   "source": [
    "# Explanation\n",
    "- **Define Points**: We define a 2D array points where each row is point in 2D space\n",
    "- **Calculate Differences**: We calculate the differences between each pair of points using broadcasting.\n",
    "- **Square Differences**: We square the differences to prepare for distance calculation.\n",
    "- **Sum and Square Root**: We sum the squared differences along the appropriate axis and take the square root to get the distances."
   ]
  },
  {
   "cell_type": "markdown",
   "metadata": {},
   "source": [
    "# Broadcasting Rules\n",
    "**NumPy follows specific rules for broadcasting:**\n",
    "\n",
    "If the arrays have different numbers of dimensions, the shape of the one with fewer dimensions is padded with ones on its left side.\n",
    "Arrays are compatible for broadcasting if, for each dimension, the dimension sizes are either the same or one of them is 1.\n",
    "If the dimension sizes are not the same and none of them is 1, a ValueError is raised."
   ]
  },
  {
   "cell_type": "markdown",
   "metadata": {},
   "source": []
  }
 ],
 "metadata": {
  "kernelspec": {
   "display_name": "Python 3",
   "language": "python",
   "name": "python3"
  },
  "language_info": {
   "codemirror_mode": {
    "name": "ipython",
    "version": 3
   },
   "file_extension": ".py",
   "mimetype": "text/x-python",
   "name": "python",
   "nbconvert_exporter": "python",
   "pygments_lexer": "ipython3",
   "version": "3.10.13"
  }
 },
 "nbformat": 4,
 "nbformat_minor": 2
}
